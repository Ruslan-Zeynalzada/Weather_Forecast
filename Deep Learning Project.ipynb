{
 "cells": [
  {
   "cell_type": "markdown",
   "id": "75d271b3-c0c0-44b4-9c68-bfdf4975d56c",
   "metadata": {},
   "source": [
    "# Importing Libraries"
   ]
  },
  {
   "cell_type": "code",
   "execution_count": 1,
   "id": "d8583486-c1b8-4bea-9037-9a0b8273e0d7",
   "metadata": {},
   "outputs": [],
   "source": [
    "import pandas as pd\n",
    "import numpy as np\n",
    "import seaborn as sns\n",
    "import matplotlib.pyplot as plt\n",
    "import tensorflow as tf\n",
    "\n",
    "from sklearn.impute import SimpleImputer\n",
    "from sklearn.model_selection import train_test_split\n",
    "from sklearn.preprocessing import StandardScaler , OneHotEncoder\n",
    "from sklearn.metrics import f1_score , precision_score , recall_score , roc_auc_score , accuracy_score , roc_curve, confusion_matrix , classification_report\n",
    "\n",
    "from tensorflow.keras.models import Sequential , clone_model , load_model\n",
    "from tensorflow.keras.optimizers import Adam\n",
    "from tensorflow.keras.losses import BinaryCrossentropy\n",
    "from tensorflow.keras.callbacks import EarlyStopping , ModelCheckpoint\n",
    "from tensorflow.keras.layers import Dense , Dropout\n",
    "from tensorflow.keras.activations import sigmoid\n",
    "\n",
    "from imblearn.over_sampling import ADASYN\n",
    "from collections import Counter\n",
    "\n",
    "import warnings\n",
    "warnings.filterwarnings(action=\"ignore\")\n",
    "plt.rcParams[\"figure.figsize\"] = (12,8)\n",
    "pd.set_option(\"display.max_columns\" , None)"
   ]
  },
  {
   "cell_type": "markdown",
   "id": "f2f6c7ff-b7d3-43af-bd21-b53d1ed67af8",
   "metadata": {},
   "source": [
    "# Variables' Description\n",
    "* **Date** - The date of observation\n",
    "* **Location** - The common name of the location of the weather station\n",
    "* **MinTemp** - The minimum temperature in degrees celsius\n",
    "* **MaxTemp** - The maximum temperature in degrees celsius\n",
    "* **Rainfall** - The amount of rainfall recorded for the day in mm\n",
    "* **Evaporation** - The so-called Class A pan evaporation (mm) in the 24 hours to 9am\n",
    "* **Sunshine** - The number of hours of bright sunshine in the day.\n",
    "* **WindGustDir** - The direction of the strongest wind gust in the 24 hours to midnight\n",
    "* **WindGustSpeed** - The speed (km/h) of the strongest wind gust in the 24 hours to midnight\n",
    "* **WindDir9am** - Direction of the wind at 9am\n",
    "* **WindDir3pm** - Direction of the wind at 3pm\n",
    "* **WindSpeed9am** - Wind speed (km/hr) averaged over 10 minutes prior to 9am\n",
    "* **WindSpeed3pm** - Wind speed (km/hr) averaged over 10 minutes prior to 3pm\n",
    "* **Humidity9am** - Humidity (percent) at 9am\n",
    "* **Humidity3pm** - Humidity (percent) at 3pm\n",
    "* **Pressure9am** - Atmospheric pressure (hpa) reduced to mean sea level at 9am\n",
    "* **Pressure3pm** - Atmospheric pressure (hpa) reduced to mean sea level at 3pm\n",
    "* **Cloud9am** - Fraction of sky obscured by cloud at 9am. This is measured in \"oktas\", which are a unit of eigths. It records how many eigths of the sky are obscured by cloud. A 0 measure indicates completely clear sky whilst an 8 indicates that it is completely overcast.\n",
    "* **Cloud3pm** - Fraction of sky obscured by cloud (in \"oktas\": eighths) at 3pm. See Cload9am for a description of the values\n",
    "* **Temp9am** - Temperature (degrees C) at 9am\n",
    "* **Temp3pm** - Temperature (degrees C) at 3pm\n",
    "* **RainToday** - Boolean: 1 if precipitation (mm) in the 24 hours to 9am exceeds 1mm, otherwise 0\n",
    "* **RainTomorrow** - The amount of next day rain in mm. Used to create response variable RainTomorrow. A kind of measure of the \"risk\"."
   ]
  },
  {
   "cell_type": "markdown",
   "id": "da19de14-3b6a-4d7b-8b6d-8ca53a9c38f5",
   "metadata": {},
   "source": [
    "# Importing Dataset"
   ]
  },
  {
   "cell_type": "code",
   "execution_count": 2,
   "id": "829f1602-f947-49e6-8018-4bff845a0222",
   "metadata": {},
   "outputs": [
    {
     "data": {
      "text/html": [
       "<div>\n",
       "<style scoped>\n",
       "    .dataframe tbody tr th:only-of-type {\n",
       "        vertical-align: middle;\n",
       "    }\n",
       "\n",
       "    .dataframe tbody tr th {\n",
       "        vertical-align: top;\n",
       "    }\n",
       "\n",
       "    .dataframe thead th {\n",
       "        text-align: right;\n",
       "    }\n",
       "</style>\n",
       "<table border=\"1\" class=\"dataframe\">\n",
       "  <thead>\n",
       "    <tr style=\"text-align: right;\">\n",
       "      <th></th>\n",
       "      <th>Date</th>\n",
       "      <th>Location</th>\n",
       "      <th>MinTemp</th>\n",
       "      <th>MaxTemp</th>\n",
       "      <th>Rainfall</th>\n",
       "      <th>Evaporation</th>\n",
       "      <th>Sunshine</th>\n",
       "      <th>WindGustDir</th>\n",
       "      <th>WindGustSpeed</th>\n",
       "      <th>WindDir9am</th>\n",
       "      <th>WindDir3pm</th>\n",
       "      <th>WindSpeed9am</th>\n",
       "      <th>WindSpeed3pm</th>\n",
       "      <th>Humidity9am</th>\n",
       "      <th>Humidity3pm</th>\n",
       "      <th>Pressure9am</th>\n",
       "      <th>Pressure3pm</th>\n",
       "      <th>Cloud9am</th>\n",
       "      <th>Cloud3pm</th>\n",
       "      <th>Temp9am</th>\n",
       "      <th>Temp3pm</th>\n",
       "      <th>RainToday</th>\n",
       "      <th>RainTomorrow</th>\n",
       "    </tr>\n",
       "  </thead>\n",
       "  <tbody>\n",
       "    <tr>\n",
       "      <th>0</th>\n",
       "      <td>2008-12-01</td>\n",
       "      <td>Albury</td>\n",
       "      <td>13.4</td>\n",
       "      <td>22.9</td>\n",
       "      <td>0.6</td>\n",
       "      <td>NaN</td>\n",
       "      <td>NaN</td>\n",
       "      <td>W</td>\n",
       "      <td>44.0</td>\n",
       "      <td>W</td>\n",
       "      <td>WNW</td>\n",
       "      <td>20.0</td>\n",
       "      <td>24.0</td>\n",
       "      <td>71.0</td>\n",
       "      <td>22.0</td>\n",
       "      <td>1007.7</td>\n",
       "      <td>1007.1</td>\n",
       "      <td>8.0</td>\n",
       "      <td>NaN</td>\n",
       "      <td>16.9</td>\n",
       "      <td>21.8</td>\n",
       "      <td>No</td>\n",
       "      <td>No</td>\n",
       "    </tr>\n",
       "    <tr>\n",
       "      <th>1</th>\n",
       "      <td>2008-12-02</td>\n",
       "      <td>Albury</td>\n",
       "      <td>7.4</td>\n",
       "      <td>25.1</td>\n",
       "      <td>0.0</td>\n",
       "      <td>NaN</td>\n",
       "      <td>NaN</td>\n",
       "      <td>WNW</td>\n",
       "      <td>44.0</td>\n",
       "      <td>NNW</td>\n",
       "      <td>WSW</td>\n",
       "      <td>4.0</td>\n",
       "      <td>22.0</td>\n",
       "      <td>44.0</td>\n",
       "      <td>25.0</td>\n",
       "      <td>1010.6</td>\n",
       "      <td>1007.8</td>\n",
       "      <td>NaN</td>\n",
       "      <td>NaN</td>\n",
       "      <td>17.2</td>\n",
       "      <td>24.3</td>\n",
       "      <td>No</td>\n",
       "      <td>No</td>\n",
       "    </tr>\n",
       "    <tr>\n",
       "      <th>2</th>\n",
       "      <td>2008-12-03</td>\n",
       "      <td>Albury</td>\n",
       "      <td>12.9</td>\n",
       "      <td>25.7</td>\n",
       "      <td>0.0</td>\n",
       "      <td>NaN</td>\n",
       "      <td>NaN</td>\n",
       "      <td>WSW</td>\n",
       "      <td>46.0</td>\n",
       "      <td>W</td>\n",
       "      <td>WSW</td>\n",
       "      <td>19.0</td>\n",
       "      <td>26.0</td>\n",
       "      <td>38.0</td>\n",
       "      <td>30.0</td>\n",
       "      <td>1007.6</td>\n",
       "      <td>1008.7</td>\n",
       "      <td>NaN</td>\n",
       "      <td>2.0</td>\n",
       "      <td>21.0</td>\n",
       "      <td>23.2</td>\n",
       "      <td>No</td>\n",
       "      <td>No</td>\n",
       "    </tr>\n",
       "    <tr>\n",
       "      <th>3</th>\n",
       "      <td>2008-12-04</td>\n",
       "      <td>Albury</td>\n",
       "      <td>9.2</td>\n",
       "      <td>28.0</td>\n",
       "      <td>0.0</td>\n",
       "      <td>NaN</td>\n",
       "      <td>NaN</td>\n",
       "      <td>NE</td>\n",
       "      <td>24.0</td>\n",
       "      <td>SE</td>\n",
       "      <td>E</td>\n",
       "      <td>11.0</td>\n",
       "      <td>9.0</td>\n",
       "      <td>45.0</td>\n",
       "      <td>16.0</td>\n",
       "      <td>1017.6</td>\n",
       "      <td>1012.8</td>\n",
       "      <td>NaN</td>\n",
       "      <td>NaN</td>\n",
       "      <td>18.1</td>\n",
       "      <td>26.5</td>\n",
       "      <td>No</td>\n",
       "      <td>No</td>\n",
       "    </tr>\n",
       "    <tr>\n",
       "      <th>4</th>\n",
       "      <td>2008-12-05</td>\n",
       "      <td>Albury</td>\n",
       "      <td>17.5</td>\n",
       "      <td>32.3</td>\n",
       "      <td>1.0</td>\n",
       "      <td>NaN</td>\n",
       "      <td>NaN</td>\n",
       "      <td>W</td>\n",
       "      <td>41.0</td>\n",
       "      <td>ENE</td>\n",
       "      <td>NW</td>\n",
       "      <td>7.0</td>\n",
       "      <td>20.0</td>\n",
       "      <td>82.0</td>\n",
       "      <td>33.0</td>\n",
       "      <td>1010.8</td>\n",
       "      <td>1006.0</td>\n",
       "      <td>7.0</td>\n",
       "      <td>8.0</td>\n",
       "      <td>17.8</td>\n",
       "      <td>29.7</td>\n",
       "      <td>No</td>\n",
       "      <td>No</td>\n",
       "    </tr>\n",
       "  </tbody>\n",
       "</table>\n",
       "</div>"
      ],
      "text/plain": [
       "         Date Location  MinTemp  MaxTemp  Rainfall  Evaporation  Sunshine  \\\n",
       "0  2008-12-01   Albury     13.4     22.9       0.6          NaN       NaN   \n",
       "1  2008-12-02   Albury      7.4     25.1       0.0          NaN       NaN   \n",
       "2  2008-12-03   Albury     12.9     25.7       0.0          NaN       NaN   \n",
       "3  2008-12-04   Albury      9.2     28.0       0.0          NaN       NaN   \n",
       "4  2008-12-05   Albury     17.5     32.3       1.0          NaN       NaN   \n",
       "\n",
       "  WindGustDir  WindGustSpeed WindDir9am WindDir3pm  WindSpeed9am  \\\n",
       "0           W           44.0          W        WNW          20.0   \n",
       "1         WNW           44.0        NNW        WSW           4.0   \n",
       "2         WSW           46.0          W        WSW          19.0   \n",
       "3          NE           24.0         SE          E          11.0   \n",
       "4           W           41.0        ENE         NW           7.0   \n",
       "\n",
       "   WindSpeed3pm  Humidity9am  Humidity3pm  Pressure9am  Pressure3pm  Cloud9am  \\\n",
       "0          24.0         71.0         22.0       1007.7       1007.1       8.0   \n",
       "1          22.0         44.0         25.0       1010.6       1007.8       NaN   \n",
       "2          26.0         38.0         30.0       1007.6       1008.7       NaN   \n",
       "3           9.0         45.0         16.0       1017.6       1012.8       NaN   \n",
       "4          20.0         82.0         33.0       1010.8       1006.0       7.0   \n",
       "\n",
       "   Cloud3pm  Temp9am  Temp3pm RainToday RainTomorrow  \n",
       "0       NaN     16.9     21.8        No           No  \n",
       "1       NaN     17.2     24.3        No           No  \n",
       "2       2.0     21.0     23.2        No           No  \n",
       "3       NaN     18.1     26.5        No           No  \n",
       "4       8.0     17.8     29.7        No           No  "
      ]
     },
     "execution_count": 2,
     "metadata": {},
     "output_type": "execute_result"
    }
   ],
   "source": [
    "data = pd.read_csv(\"weatherAUS.csv\")\n",
    "df = data.copy()\n",
    "df.head()"
   ]
  },
  {
   "cell_type": "markdown",
   "id": "55c5e47a-ad42-409f-8c48-06dd210241c1",
   "metadata": {},
   "source": [
    "# Checking the number of the null values for each column"
   ]
  },
  {
   "cell_type": "code",
   "execution_count": 3,
   "id": "885e8ea4-3e59-4abe-8ea8-ac8b308e2a1e",
   "metadata": {},
   "outputs": [
    {
     "data": {
      "text/plain": [
       "Date                 0\n",
       "Location             0\n",
       "MinTemp           1485\n",
       "MaxTemp           1261\n",
       "Rainfall          3261\n",
       "Evaporation      62790\n",
       "Sunshine         69835\n",
       "WindGustDir      10326\n",
       "WindGustSpeed    10263\n",
       "WindDir9am       10566\n",
       "WindDir3pm        4228\n",
       "WindSpeed9am      1767\n",
       "WindSpeed3pm      3062\n",
       "Humidity9am       2654\n",
       "Humidity3pm       4507\n",
       "Pressure9am      15065\n",
       "Pressure3pm      15028\n",
       "Cloud9am         55888\n",
       "Cloud3pm         59358\n",
       "Temp9am           1767\n",
       "Temp3pm           3609\n",
       "RainToday         3261\n",
       "RainTomorrow      3267\n",
       "dtype: int64"
      ]
     },
     "execution_count": 3,
     "metadata": {},
     "output_type": "execute_result"
    }
   ],
   "source": [
    "df.isnull().sum()"
   ]
  },
  {
   "cell_type": "markdown",
   "id": "82a032d2-dd48-4b41-9d92-2e93041370f0",
   "metadata": {},
   "source": [
    "# If there are null values more than 30 % for each column it will be droped"
   ]
  },
  {
   "cell_type": "code",
   "execution_count": 4,
   "id": "517fdd77-5adb-4921-bb88-c43cc706d0f0",
   "metadata": {},
   "outputs": [],
   "source": [
    "df.dropna(axis =1 , thresh=df.shape[0] * 0.70 , inplace = True)"
   ]
  },
  {
   "cell_type": "code",
   "execution_count": 5,
   "id": "a606c69a-c1b3-4c62-bd84-f9cceb9b2f36",
   "metadata": {},
   "outputs": [
    {
     "data": {
      "text/plain": [
       "Date                 0\n",
       "Location             0\n",
       "MinTemp           1485\n",
       "MaxTemp           1261\n",
       "Rainfall          3261\n",
       "WindGustDir      10326\n",
       "WindGustSpeed    10263\n",
       "WindDir9am       10566\n",
       "WindDir3pm        4228\n",
       "WindSpeed9am      1767\n",
       "WindSpeed3pm      3062\n",
       "Humidity9am       2654\n",
       "Humidity3pm       4507\n",
       "Pressure9am      15065\n",
       "Pressure3pm      15028\n",
       "Temp9am           1767\n",
       "Temp3pm           3609\n",
       "RainToday         3261\n",
       "RainTomorrow      3267\n",
       "dtype: int64"
      ]
     },
     "execution_count": 5,
     "metadata": {},
     "output_type": "execute_result"
    }
   ],
   "source": [
    "df.isnull().sum()"
   ]
  },
  {
   "cell_type": "code",
   "execution_count": 6,
   "id": "2914fc6a-9731-44b4-9602-776cf51129c9",
   "metadata": {},
   "outputs": [
    {
     "data": {
      "image/png": "[encoded data removed]",
      "text/plain": [
       "<Figure size 864x576 with 1 Axes>"
      ]
     },
     "metadata": {
      "needs_background": "light"
     },
     "output_type": "display_data"
    }
   ],
   "source": [
    "sns.heatmap(data = df.isnull(), cmap = \"magma\" , cbar=False , yticklabels=False , xticklabels=True)\n",
    "plt.show()"
   ]
  },
  {
   "cell_type": "code",
   "execution_count": 7,
   "id": "87b62e29-6e62-415f-9c17-2fa434fa9ea9",
   "metadata": {},
   "outputs": [],
   "source": [
    "# Handling Missing Values\n",
    "imputer_int = SimpleImputer(missing_values=np.nan , strategy=\"median\")\n",
    "imputer_str = SimpleImputer(missing_values=np.nan , strategy=\"most_frequent\")"
   ]
  },
  {
   "cell_type": "markdown",
   "id": "11cb4fa5-d379-4fcf-9569-41b3a809e1a0",
   "metadata": {},
   "source": [
    "# Replacing NA in numerical variable with the median of the variable and replacing NA in categorical vairables with the the mode of the variable"
   ]
  },
  {
   "cell_type": "code",
   "execution_count": 8,
   "id": "97a76be5-8240-48b4-b2a0-a49f770c2db7",
   "metadata": {},
   "outputs": [],
   "source": [
    "for x in df.select_dtypes(include=\"number\") :\n",
    "    for i in df.select_dtypes(exclude=\"number\") : \n",
    "        df[x] = imputer_int.fit_transform(df[[x]]).ravel()\n",
    "        df[i] = imputer_str.fit_transform(df[[i]]).ravel()"
   ]
  },
  {
   "cell_type": "code",
   "execution_count": 9,
   "id": "7987ad27-b1b1-4421-b9e4-ee3e2035952a",
   "metadata": {},
   "outputs": [
    {
     "data": {
      "text/plain": [
       "Date             0\n",
       "Location         0\n",
       "MinTemp          0\n",
       "MaxTemp          0\n",
       "Rainfall         0\n",
       "WindGustDir      0\n",
       "WindGustSpeed    0\n",
       "WindDir9am       0\n",
       "WindDir3pm       0\n",
       "WindSpeed9am     0\n",
       "WindSpeed3pm     0\n",
       "Humidity9am      0\n",
       "Humidity3pm      0\n",
       "Pressure9am      0\n",
       "Pressure3pm      0\n",
       "Temp9am          0\n",
       "Temp3pm          0\n",
       "RainToday        0\n",
       "RainTomorrow     0\n",
       "dtype: int64"
      ]
     },
     "execution_count": 9,
     "metadata": {},
     "output_type": "execute_result"
    }
   ],
   "source": [
    "df.isnull().sum()"
   ]
  },
  {
   "cell_type": "markdown",
   "id": "3bb15bad-19f9-4e7f-a931-38b597e9c738",
   "metadata": {},
   "source": [
    "# Checking if there are duplicates in the dataset or not"
   ]
  },
  {
   "cell_type": "code",
   "execution_count": 10,
   "id": "65e9d64b-5e5f-43bf-b21d-e65beab5906d",
   "metadata": {},
   "outputs": [
    {
     "name": "stdout",
     "output_type": "stream",
     "text": [
      "There are 0 duplicates in the dataset\n"
     ]
    }
   ],
   "source": [
    "print(\"There are {} duplicates in the dataset\".format(df.duplicated().sum()))"
   ]
  },
  {
   "cell_type": "markdown",
   "id": "c20d1679-03b3-48a6-81e1-a39a5cfad8f5",
   "metadata": {},
   "source": [
    "# Spliting Date column to 3 new columns"
   ]
  },
  {
   "cell_type": "code",
   "execution_count": 11,
   "id": "1f09daeb-1569-41d4-a861-44ac09ca7a76",
   "metadata": {},
   "outputs": [
    {
     "data": {
      "text/html": [
       "<div>\n",
       "<style scoped>\n",
       "    .dataframe tbody tr th:only-of-type {\n",
       "        vertical-align: middle;\n",
       "    }\n",
       "\n",
       "    .dataframe tbody tr th {\n",
       "        vertical-align: top;\n",
       "    }\n",
       "\n",
       "    .dataframe thead th {\n",
       "        text-align: right;\n",
       "    }\n",
       "</style>\n",
       "<table border=\"1\" class=\"dataframe\">\n",
       "  <thead>\n",
       "    <tr style=\"text-align: right;\">\n",
       "      <th></th>\n",
       "      <th>Year</th>\n",
       "      <th>Month</th>\n",
       "      <th>Day</th>\n",
       "    </tr>\n",
       "  </thead>\n",
       "  <tbody>\n",
       "    <tr>\n",
       "      <th>0</th>\n",
       "      <td>2008</td>\n",
       "      <td>12</td>\n",
       "      <td>01</td>\n",
       "    </tr>\n",
       "    <tr>\n",
       "      <th>1</th>\n",
       "      <td>2008</td>\n",
       "      <td>12</td>\n",
       "      <td>02</td>\n",
       "    </tr>\n",
       "    <tr>\n",
       "      <th>2</th>\n",
       "      <td>2008</td>\n",
       "      <td>12</td>\n",
       "      <td>03</td>\n",
       "    </tr>\n",
       "    <tr>\n",
       "      <th>3</th>\n",
       "      <td>2008</td>\n",
       "      <td>12</td>\n",
       "      <td>04</td>\n",
       "    </tr>\n",
       "    <tr>\n",
       "      <th>4</th>\n",
       "      <td>2008</td>\n",
       "      <td>12</td>\n",
       "      <td>05</td>\n",
       "    </tr>\n",
       "    <tr>\n",
       "      <th>...</th>\n",
       "      <td>...</td>\n",
       "      <td>...</td>\n",
       "      <td>...</td>\n",
       "    </tr>\n",
       "    <tr>\n",
       "      <th>145455</th>\n",
       "      <td>2017</td>\n",
       "      <td>06</td>\n",
       "      <td>21</td>\n",
       "    </tr>\n",
       "    <tr>\n",
       "      <th>145456</th>\n",
       "      <td>2017</td>\n",
       "      <td>06</td>\n",
       "      <td>22</td>\n",
       "    </tr>\n",
       "    <tr>\n",
       "      <th>145457</th>\n",
       "      <td>2017</td>\n",
       "      <td>06</td>\n",
       "      <td>23</td>\n",
       "    </tr>\n",
       "    <tr>\n",
       "      <th>145458</th>\n",
       "      <td>2017</td>\n",
       "      <td>06</td>\n",
       "      <td>24</td>\n",
       "    </tr>\n",
       "    <tr>\n",
       "      <th>145459</th>\n",
       "      <td>2017</td>\n",
       "      <td>06</td>\n",
       "      <td>25</td>\n",
       "    </tr>\n",
       "  </tbody>\n",
       "</table>\n",
       "<p>145460 rows × 3 columns</p>\n",
       "</div>"
      ],
      "text/plain": [
       "        Year Month Day\n",
       "0       2008    12  01\n",
       "1       2008    12  02\n",
       "2       2008    12  03\n",
       "3       2008    12  04\n",
       "4       2008    12  05\n",
       "...      ...   ...  ..\n",
       "145455  2017    06  21\n",
       "145456  2017    06  22\n",
       "145457  2017    06  23\n",
       "145458  2017    06  24\n",
       "145459  2017    06  25\n",
       "\n",
       "[145460 rows x 3 columns]"
      ]
     },
     "execution_count": 11,
     "metadata": {},
     "output_type": "execute_result"
    }
   ],
   "source": [
    "main_dataframe = df[\"Date\"].str.split(\"-\" , expand  = True)\n",
    "main_dataframe.columns = [\"Year\" , \"Month\" , \"Day\"]\n",
    "main_dataframe"
   ]
  },
  {
   "cell_type": "markdown",
   "id": "f3233a6c-62c2-4bbc-a87a-20aed5a995fa",
   "metadata": {},
   "source": [
    "# Combining new variables with the main data"
   ]
  },
  {
   "cell_type": "code",
   "execution_count": 12,
   "id": "a873742c-bf92-4322-960a-e738527e576c",
   "metadata": {},
   "outputs": [
    {
     "data": {
      "text/html": [
       "<div>\n",
       "<style scoped>\n",
       "    .dataframe tbody tr th:only-of-type {\n",
       "        vertical-align: middle;\n",
       "    }\n",
       "\n",
       "    .dataframe tbody tr th {\n",
       "        vertical-align: top;\n",
       "    }\n",
       "\n",
       "    .dataframe thead th {\n",
       "        text-align: right;\n",
       "    }\n",
       "</style>\n",
       "<table border=\"1\" class=\"dataframe\">\n",
       "  <thead>\n",
       "    <tr style=\"text-align: right;\">\n",
       "      <th></th>\n",
       "      <th>MinTemp</th>\n",
       "      <th>MaxTemp</th>\n",
       "      <th>Rainfall</th>\n",
       "      <th>WindGustDir</th>\n",
       "      <th>WindGustSpeed</th>\n",
       "      <th>WindDir9am</th>\n",
       "      <th>WindDir3pm</th>\n",
       "      <th>WindSpeed9am</th>\n",
       "      <th>WindSpeed3pm</th>\n",
       "      <th>Humidity9am</th>\n",
       "      <th>Humidity3pm</th>\n",
       "      <th>Pressure9am</th>\n",
       "      <th>Pressure3pm</th>\n",
       "      <th>Temp9am</th>\n",
       "      <th>Temp3pm</th>\n",
       "      <th>RainToday</th>\n",
       "      <th>RainTomorrow</th>\n",
       "      <th>Year</th>\n",
       "      <th>Month</th>\n",
       "      <th>Day</th>\n",
       "    </tr>\n",
       "  </thead>\n",
       "  <tbody>\n",
       "    <tr>\n",
       "      <th>0</th>\n",
       "      <td>13.4</td>\n",
       "      <td>22.9</td>\n",
       "      <td>0.6</td>\n",
       "      <td>W</td>\n",
       "      <td>44.0</td>\n",
       "      <td>W</td>\n",
       "      <td>WNW</td>\n",
       "      <td>20.0</td>\n",
       "      <td>24.0</td>\n",
       "      <td>71.0</td>\n",
       "      <td>22.0</td>\n",
       "      <td>1007.7</td>\n",
       "      <td>1007.1</td>\n",
       "      <td>16.9</td>\n",
       "      <td>21.8</td>\n",
       "      <td>No</td>\n",
       "      <td>No</td>\n",
       "      <td>2008</td>\n",
       "      <td>12</td>\n",
       "      <td>01</td>\n",
       "    </tr>\n",
       "    <tr>\n",
       "      <th>1</th>\n",
       "      <td>7.4</td>\n",
       "      <td>25.1</td>\n",
       "      <td>0.0</td>\n",
       "      <td>WNW</td>\n",
       "      <td>44.0</td>\n",
       "      <td>NNW</td>\n",
       "      <td>WSW</td>\n",
       "      <td>4.0</td>\n",
       "      <td>22.0</td>\n",
       "      <td>44.0</td>\n",
       "      <td>25.0</td>\n",
       "      <td>1010.6</td>\n",
       "      <td>1007.8</td>\n",
       "      <td>17.2</td>\n",
       "      <td>24.3</td>\n",
       "      <td>No</td>\n",
       "      <td>No</td>\n",
       "      <td>2008</td>\n",
       "      <td>12</td>\n",
       "      <td>02</td>\n",
       "    </tr>\n",
       "    <tr>\n",
       "      <th>2</th>\n",
       "      <td>12.9</td>\n",
       "      <td>25.7</td>\n",
       "      <td>0.0</td>\n",
       "      <td>WSW</td>\n",
       "      <td>46.0</td>\n",
       "      <td>W</td>\n",
       "      <td>WSW</td>\n",
       "      <td>19.0</td>\n",
       "      <td>26.0</td>\n",
       "      <td>38.0</td>\n",
       "      <td>30.0</td>\n",
       "      <td>1007.6</td>\n",
       "      <td>1008.7</td>\n",
       "      <td>21.0</td>\n",
       "      <td>23.2</td>\n",
       "      <td>No</td>\n",
       "      <td>No</td>\n",
       "      <td>2008</td>\n",
       "      <td>12</td>\n",
       "      <td>03</td>\n",
       "    </tr>\n",
       "    <tr>\n",
       "      <th>3</th>\n",
       "      <td>9.2</td>\n",
       "      <td>28.0</td>\n",
       "      <td>0.0</td>\n",
       "      <td>NE</td>\n",
       "      <td>24.0</td>\n",
       "      <td>SE</td>\n",
       "      <td>E</td>\n",
       "      <td>11.0</td>\n",
       "      <td>9.0</td>\n",
       "      <td>45.0</td>\n",
       "      <td>16.0</td>\n",
       "      <td>1017.6</td>\n",
       "      <td>1012.8</td>\n",
       "      <td>18.1</td>\n",
       "      <td>26.5</td>\n",
       "      <td>No</td>\n",
       "      <td>No</td>\n",
       "      <td>2008</td>\n",
       "      <td>12</td>\n",
       "      <td>04</td>\n",
       "    </tr>\n",
       "    <tr>\n",
       "      <th>4</th>\n",
       "      <td>17.5</td>\n",
       "      <td>32.3</td>\n",
       "      <td>1.0</td>\n",
       "      <td>W</td>\n",
       "      <td>41.0</td>\n",
       "      <td>ENE</td>\n",
       "      <td>NW</td>\n",
       "      <td>7.0</td>\n",
       "      <td>20.0</td>\n",
       "      <td>82.0</td>\n",
       "      <td>33.0</td>\n",
       "      <td>1010.8</td>\n",
       "      <td>1006.0</td>\n",
       "      <td>17.8</td>\n",
       "      <td>29.7</td>\n",
       "      <td>No</td>\n",
       "      <td>No</td>\n",
       "      <td>2008</td>\n",
       "      <td>12</td>\n",
       "      <td>05</td>\n",
       "    </tr>\n",
       "  </tbody>\n",
       "</table>\n",
       "</div>"
      ],
      "text/plain": [
       "   MinTemp  MaxTemp  Rainfall WindGustDir  WindGustSpeed WindDir9am  \\\n",
       "0     13.4     22.9       0.6           W           44.0          W   \n",
       "1      7.4     25.1       0.0         WNW           44.0        NNW   \n",
       "2     12.9     25.7       0.0         WSW           46.0          W   \n",
       "3      9.2     28.0       0.0          NE           24.0         SE   \n",
       "4     17.5     32.3       1.0           W           41.0        ENE   \n",
       "\n",
       "  WindDir3pm  WindSpeed9am  WindSpeed3pm  Humidity9am  Humidity3pm  \\\n",
       "0        WNW          20.0          24.0         71.0         22.0   \n",
       "1        WSW           4.0          22.0         44.0         25.0   \n",
       "2        WSW          19.0          26.0         38.0         30.0   \n",
       "3          E          11.0           9.0         45.0         16.0   \n",
       "4         NW           7.0          20.0         82.0         33.0   \n",
       "\n",
       "   Pressure9am  Pressure3pm  Temp9am  Temp3pm RainToday RainTomorrow  Year  \\\n",
       "0       1007.7       1007.1     16.9     21.8        No           No  2008   \n",
       "1       1010.6       1007.8     17.2     24.3        No           No  2008   \n",
       "2       1007.6       1008.7     21.0     23.2        No           No  2008   \n",
       "3       1017.6       1012.8     18.1     26.5        No           No  2008   \n",
       "4       1010.8       1006.0     17.8     29.7        No           No  2008   \n",
       "\n",
       "  Month Day  \n",
       "0    12  01  \n",
       "1    12  02  \n",
       "2    12  03  \n",
       "3    12  04  \n",
       "4    12  05  "
      ]
     },
     "execution_count": 12,
     "metadata": {},
     "output_type": "execute_result"
    }
   ],
   "source": [
    "df.drop(columns = [\"Date\" , \"Location\"] , inplace = True)\n",
    "df = pd.concat([df , main_dataframe] , axis = 1)\n",
    "df.head()"
   ]
  },
  {
   "cell_type": "code",
   "execution_count": 13,
   "id": "3060e6ce-a6d3-4c1e-868c-e232691e221b",
   "metadata": {},
   "outputs": [
    {
     "data": {
      "text/plain": [
       "SE     0.103575\n",
       "W      0.069504\n",
       "S      0.068239\n",
       "WSW    0.065434\n",
       "SSE    0.064616\n",
       "SW     0.064306\n",
       "N      0.061116\n",
       "WNW    0.061006\n",
       "NW     0.059192\n",
       "ESE    0.058470\n",
       "E      0.058243\n",
       "NE     0.056806\n",
       "SSW    0.056070\n",
       "NNW    0.054104\n",
       "ENE    0.054015\n",
       "NNE    0.045305\n",
       "Name: WindDir3pm, dtype: float64"
      ]
     },
     "execution_count": 13,
     "metadata": {},
     "output_type": "execute_result"
    }
   ],
   "source": [
    "df[\"WindDir3pm\"].value_counts(normalize = True)"
   ]
  },
  {
   "cell_type": "markdown",
   "id": "605eabbc-fb64-4b78-a657-c995f69ab4e2",
   "metadata": {},
   "source": [
    "# Replacing wind's tpyes with \"Other\" word except West , East , North and South"
   ]
  },
  {
   "cell_type": "code",
   "execution_count": 14,
   "id": "f2bd98fd-568b-4b0e-84c6-2d123ec60bed",
   "metadata": {},
   "outputs": [],
   "source": [
    "for x in [\"WindGustDir\" , \"WindDir9am\" , \"WindDir3pm\"] : \n",
    "    df.loc[(df[x] != \"W\")&(df[x] != \"S\")&(df[x] != \"N\")&(df[x] != \"E\") , x] = \"Other\""
   ]
  },
  {
   "cell_type": "code",
   "execution_count": 15,
   "id": "6b46d8f5-6031-44e3-9acc-d33e2df82007",
   "metadata": {},
   "outputs": [
    {
     "data": {
      "text/plain": [
       "array(['Other', 'E', 'W', 'N', 'S'], dtype=object)"
      ]
     },
     "execution_count": 15,
     "metadata": {},
     "output_type": "execute_result"
    }
   ],
   "source": [
    "df[\"WindDir3pm\"].unique()"
   ]
  },
  {
   "cell_type": "code",
   "execution_count": 16,
   "id": "9392dea0-38b6-4624-97c3-3612860f8fef",
   "metadata": {},
   "outputs": [
    {
     "data": {
      "text/html": [
       "<div>\n",
       "<style scoped>\n",
       "    .dataframe tbody tr th:only-of-type {\n",
       "        vertical-align: middle;\n",
       "    }\n",
       "\n",
       "    .dataframe tbody tr th {\n",
       "        vertical-align: top;\n",
       "    }\n",
       "\n",
       "    .dataframe thead th {\n",
       "        text-align: right;\n",
       "    }\n",
       "</style>\n",
       "<table border=\"1\" class=\"dataframe\">\n",
       "  <thead>\n",
       "    <tr style=\"text-align: right;\">\n",
       "      <th></th>\n",
       "      <th>MinTemp</th>\n",
       "      <th>MaxTemp</th>\n",
       "      <th>Rainfall</th>\n",
       "      <th>WindGustDir</th>\n",
       "      <th>WindGustSpeed</th>\n",
       "      <th>WindDir9am</th>\n",
       "      <th>WindDir3pm</th>\n",
       "      <th>WindSpeed9am</th>\n",
       "      <th>WindSpeed3pm</th>\n",
       "      <th>Humidity9am</th>\n",
       "      <th>Humidity3pm</th>\n",
       "      <th>Pressure9am</th>\n",
       "      <th>Pressure3pm</th>\n",
       "      <th>Temp9am</th>\n",
       "      <th>Temp3pm</th>\n",
       "      <th>RainToday</th>\n",
       "      <th>RainTomorrow</th>\n",
       "      <th>Year</th>\n",
       "      <th>Month</th>\n",
       "      <th>Day</th>\n",
       "    </tr>\n",
       "  </thead>\n",
       "  <tbody>\n",
       "    <tr>\n",
       "      <th>0</th>\n",
       "      <td>13.4</td>\n",
       "      <td>22.9</td>\n",
       "      <td>0.6</td>\n",
       "      <td>W</td>\n",
       "      <td>44.0</td>\n",
       "      <td>W</td>\n",
       "      <td>Other</td>\n",
       "      <td>20.0</td>\n",
       "      <td>24.0</td>\n",
       "      <td>71.0</td>\n",
       "      <td>22.0</td>\n",
       "      <td>1007.7</td>\n",
       "      <td>1007.1</td>\n",
       "      <td>16.9</td>\n",
       "      <td>21.8</td>\n",
       "      <td>No</td>\n",
       "      <td>No</td>\n",
       "      <td>2008</td>\n",
       "      <td>12</td>\n",
       "      <td>01</td>\n",
       "    </tr>\n",
       "    <tr>\n",
       "      <th>1</th>\n",
       "      <td>7.4</td>\n",
       "      <td>25.1</td>\n",
       "      <td>0.0</td>\n",
       "      <td>Other</td>\n",
       "      <td>44.0</td>\n",
       "      <td>Other</td>\n",
       "      <td>Other</td>\n",
       "      <td>4.0</td>\n",
       "      <td>22.0</td>\n",
       "      <td>44.0</td>\n",
       "      <td>25.0</td>\n",
       "      <td>1010.6</td>\n",
       "      <td>1007.8</td>\n",
       "      <td>17.2</td>\n",
       "      <td>24.3</td>\n",
       "      <td>No</td>\n",
       "      <td>No</td>\n",
       "      <td>2008</td>\n",
       "      <td>12</td>\n",
       "      <td>02</td>\n",
       "    </tr>\n",
       "    <tr>\n",
       "      <th>2</th>\n",
       "      <td>12.9</td>\n",
       "      <td>25.7</td>\n",
       "      <td>0.0</td>\n",
       "      <td>Other</td>\n",
       "      <td>46.0</td>\n",
       "      <td>W</td>\n",
       "      <td>Other</td>\n",
       "      <td>19.0</td>\n",
       "      <td>26.0</td>\n",
       "      <td>38.0</td>\n",
       "      <td>30.0</td>\n",
       "      <td>1007.6</td>\n",
       "      <td>1008.7</td>\n",
       "      <td>21.0</td>\n",
       "      <td>23.2</td>\n",
       "      <td>No</td>\n",
       "      <td>No</td>\n",
       "      <td>2008</td>\n",
       "      <td>12</td>\n",
       "      <td>03</td>\n",
       "    </tr>\n",
       "    <tr>\n",
       "      <th>3</th>\n",
       "      <td>9.2</td>\n",
       "      <td>28.0</td>\n",
       "      <td>0.0</td>\n",
       "      <td>Other</td>\n",
       "      <td>24.0</td>\n",
       "      <td>Other</td>\n",
       "      <td>E</td>\n",
       "      <td>11.0</td>\n",
       "      <td>9.0</td>\n",
       "      <td>45.0</td>\n",
       "      <td>16.0</td>\n",
       "      <td>1017.6</td>\n",
       "      <td>1012.8</td>\n",
       "      <td>18.1</td>\n",
       "      <td>26.5</td>\n",
       "      <td>No</td>\n",
       "      <td>No</td>\n",
       "      <td>2008</td>\n",
       "      <td>12</td>\n",
       "      <td>04</td>\n",
       "    </tr>\n",
       "    <tr>\n",
       "      <th>4</th>\n",
       "      <td>17.5</td>\n",
       "      <td>32.3</td>\n",
       "      <td>1.0</td>\n",
       "      <td>W</td>\n",
       "      <td>41.0</td>\n",
       "      <td>Other</td>\n",
       "      <td>Other</td>\n",
       "      <td>7.0</td>\n",
       "      <td>20.0</td>\n",
       "      <td>82.0</td>\n",
       "      <td>33.0</td>\n",
       "      <td>1010.8</td>\n",
       "      <td>1006.0</td>\n",
       "      <td>17.8</td>\n",
       "      <td>29.7</td>\n",
       "      <td>No</td>\n",
       "      <td>No</td>\n",
       "      <td>2008</td>\n",
       "      <td>12</td>\n",
       "      <td>05</td>\n",
       "    </tr>\n",
       "  </tbody>\n",
       "</table>\n",
       "</div>"
      ],
      "text/plain": [
       "   MinTemp  MaxTemp  Rainfall WindGustDir  WindGustSpeed WindDir9am  \\\n",
       "0     13.4     22.9       0.6           W           44.0          W   \n",
       "1      7.4     25.1       0.0       Other           44.0      Other   \n",
       "2     12.9     25.7       0.0       Other           46.0          W   \n",
       "3      9.2     28.0       0.0       Other           24.0      Other   \n",
       "4     17.5     32.3       1.0           W           41.0      Other   \n",
       "\n",
       "  WindDir3pm  WindSpeed9am  WindSpeed3pm  Humidity9am  Humidity3pm  \\\n",
       "0      Other          20.0          24.0         71.0         22.0   \n",
       "1      Other           4.0          22.0         44.0         25.0   \n",
       "2      Other          19.0          26.0         38.0         30.0   \n",
       "3          E          11.0           9.0         45.0         16.0   \n",
       "4      Other           7.0          20.0         82.0         33.0   \n",
       "\n",
       "   Pressure9am  Pressure3pm  Temp9am  Temp3pm RainToday RainTomorrow  Year  \\\n",
       "0       1007.7       1007.1     16.9     21.8        No           No  2008   \n",
       "1       1010.6       1007.8     17.2     24.3        No           No  2008   \n",
       "2       1007.6       1008.7     21.0     23.2        No           No  2008   \n",
       "3       1017.6       1012.8     18.1     26.5        No           No  2008   \n",
       "4       1010.8       1006.0     17.8     29.7        No           No  2008   \n",
       "\n",
       "  Month Day  \n",
       "0    12  01  \n",
       "1    12  02  \n",
       "2    12  03  \n",
       "3    12  04  \n",
       "4    12  05  "
      ]
     },
     "execution_count": 16,
     "metadata": {},
     "output_type": "execute_result"
    }
   ],
   "source": [
    "df.head()"
   ]
  },
  {
   "cell_type": "markdown",
   "id": "03b2324c-19a2-4cc1-b8c3-75cd634f66b3",
   "metadata": {},
   "source": [
    "# Encoding variables with map function."
   ]
  },
  {
   "cell_type": "code",
   "execution_count": 17,
   "id": "970fa261-fc20-496a-ac01-dfb1eb32a224",
   "metadata": {},
   "outputs": [],
   "source": [
    "df[\"RainToday\"] = df[\"RainToday\"].map({\"No\" : 0 , \"Yes\" : 1})\n",
    "df[\"RainTomorrow\"] = df[\"RainTomorrow\"].map({\"No\" : 0 , \"Yes\" : 1})"
   ]
  },
  {
   "cell_type": "code",
   "execution_count": 18,
   "id": "a888f7fa-881d-43e2-8b3f-70a93cda5a30",
   "metadata": {},
   "outputs": [],
   "source": [
    "for x in [\"WindGustDir\" , \"WindDir9am\" , \"WindDir3pm\"] : \n",
    "    df[x] = df[x].map({\"N\" : 0 , \"S\" : 1 , \"E\" : 2 , \"W\" : 3 , \"Other\" : 4})"
   ]
  },
  {
   "cell_type": "code",
   "execution_count": 19,
   "id": "29c591ec-4628-413d-be9a-84dc854ee181",
   "metadata": {},
   "outputs": [
    {
     "name": "stdout",
     "output_type": "stream",
     "text": [
      "<class 'pandas.core.frame.DataFrame'>\n",
      "RangeIndex: 145460 entries, 0 to 145459\n",
      "Data columns (total 20 columns):\n",
      " #   Column         Non-Null Count   Dtype  \n",
      "---  ------         --------------   -----  \n",
      " 0   MinTemp        145460 non-null  float64\n",
      " 1   MaxTemp        145460 non-null  float64\n",
      " 2   Rainfall       145460 non-null  float64\n",
      " 3   WindGustDir    145460 non-null  int64  \n",
      " 4   WindGustSpeed  145460 non-null  float64\n",
      " 5   WindDir9am     145460 non-null  int64  \n",
      " 6   WindDir3pm     145460 non-null  int64  \n",
      " 7   WindSpeed9am   145460 non-null  float64\n",
      " 8   WindSpeed3pm   145460 non-null  float64\n",
      " 9   Humidity9am    145460 non-null  float64\n",
      " 10  Humidity3pm    145460 non-null  float64\n",
      " 11  Pressure9am    145460 non-null  float64\n",
      " 12  Pressure3pm    145460 non-null  float64\n",
      " 13  Temp9am        145460 non-null  float64\n",
      " 14  Temp3pm        145460 non-null  float64\n",
      " 15  RainToday      145460 non-null  int64  \n",
      " 16  RainTomorrow   145460 non-null  int64  \n",
      " 17  Year           145460 non-null  object \n",
      " 18  Month          145460 non-null  object \n",
      " 19  Day            145460 non-null  object \n",
      "dtypes: float64(12), int64(5), object(3)\n",
      "memory usage: 22.2+ MB\n"
     ]
    }
   ],
   "source": [
    "df.info()"
   ]
  },
  {
   "cell_type": "markdown",
   "id": "c87c46e1-6d65-413f-ae59-8ff8ce12d05e",
   "metadata": {},
   "source": [
    "# Changing object dtypes to numeric"
   ]
  },
  {
   "cell_type": "code",
   "execution_count": 20,
   "id": "ca354af8-0f3d-4d7c-949f-aa179adb826b",
   "metadata": {},
   "outputs": [],
   "source": [
    "for x in [\"Year\" , \"Month\" , \"Day\"] : \n",
    "    df[x] = pd.to_numeric(df[x])"
   ]
  },
  {
   "cell_type": "markdown",
   "id": "181f9759-10dd-46a1-a453-d4b6b356509d",
   "metadata": {},
   "source": [
    "# Spliting dataset to X and y"
   ]
  },
  {
   "cell_type": "code",
   "execution_count": 21,
   "id": "44bc822d-6b05-4531-8338-d42abf6f30cd",
   "metadata": {},
   "outputs": [],
   "source": [
    "X = df.drop(columns = \"RainTomorrow\")\n",
    "y = df[\"RainTomorrow\"]"
   ]
  },
  {
   "cell_type": "markdown",
   "id": "edf2f190-a675-48f6-825c-5fad53778853",
   "metadata": {},
   "source": [
    "# Pie chart for checking if the data is balanced or not"
   ]
  },
  {
   "cell_type": "code",
   "execution_count": 22,
   "id": "2ad64e96-4e26-4c03-88f2-6ce59292c14b",
   "metadata": {},
   "outputs": [
    {
     "data": {
      "image/png": "[encoded data removed]",
      "text/plain": [
       "<Figure size 864x576 with 1 Axes>"
      ]
     },
     "metadata": {},
     "output_type": "display_data"
    }
   ],
   "source": [
    "y.value_counts().plot(kind = \"pie\" , autopct = \"%.2f\" , explode = [0.0 , 0.3] , labels = [\"It wont rain tomorrow\" , \"It will rain tomorrow\"])\n",
    "plt.legend()\n",
    "plt.show()"
   ]
  },
  {
   "cell_type": "markdown",
   "id": "ec390852-0551-4524-bc9c-3132e34c9bb6",
   "metadata": {},
   "source": [
    "# Data is inbalanced so I will apply Over Sampling method"
   ]
  },
  {
   "cell_type": "code",
   "execution_count": 23,
   "id": "c2283d36-da25-40b4-9510-2954939bfdfc",
   "metadata": {},
   "outputs": [],
   "source": [
    "over_sampling = ADASYN(sampling_strategy=0.95 , random_state=42)\n",
    "X_res , y_res = over_sampling.fit_resample(X , y)"
   ]
  },
  {
   "cell_type": "code",
   "execution_count": 24,
   "id": "bbdd1d5e-554f-4cac-b050-d84d1c5f552a",
   "metadata": {},
   "outputs": [
    {
     "data": {
      "image/png": "[encoded data removed]",
      "text/plain": [
       "<Figure size 864x576 with 1 Axes>"
      ]
     },
     "metadata": {
      "needs_background": "light"
     },
     "output_type": "display_data"
    }
   ],
   "source": [
    "sns.countplot(data = pd.DataFrame(y) , x = y)\n",
    "plt.title(\"Before Oversamling\" , fontsize= 16)\n",
    "plt.grid()\n",
    "plt.show()"
   ]
  },
  {
   "cell_type": "code",
   "execution_count": 25,
   "id": "fe674105-34a9-4011-855c-b22e6fdbc2f8",
   "metadata": {},
   "outputs": [
    {
     "data": {
      "image/png": "[encoded data removed]",
      "text/plain": [
       "<Figure size 864x576 with 1 Axes>"
      ]
     },
     "metadata": {
      "needs_background": "light"
     },
     "output_type": "display_data"
    }
   ],
   "source": [
    "sns.countplot(data = pd.DataFrame(y_res) , x = y_res)\n",
    "plt.title(\"After Oversampling\" , fontsize = 16)\n",
    "plt.grid()\n",
    "plt.show()"
   ]
  },
  {
   "cell_type": "code",
   "execution_count": 26,
   "id": "c2bc56a0-b3f8-40ee-a09e-1c572e5d733f",
   "metadata": {},
   "outputs": [],
   "source": [
    "X , y = X_res , y_res"
   ]
  },
  {
   "cell_type": "markdown",
   "id": "9ef4d560-eaf3-40d9-9c0d-9568c44f01b6",
   "metadata": {},
   "source": [
    "# Spliting to train and test dataset"
   ]
  },
  {
   "cell_type": "code",
   "execution_count": 27,
   "id": "6ceaec71-c0ad-4719-b22f-479b42f6ff9f",
   "metadata": {},
   "outputs": [],
   "source": [
    "X_train , X_test_data , y_train , y_test = train_test_split(X , y , test_size=0.2 , random_state=42)"
   ]
  },
  {
   "cell_type": "markdown",
   "id": "1e809b54-f577-48f4-8928-ff8c6f99ecf0",
   "metadata": {},
   "source": [
    "# Applying Standart scaler for to normalize X_train and X_test in a particular range"
   ]
  },
  {
   "cell_type": "code",
   "execution_count": 28,
   "id": "d158ad04-1669-4671-b5e9-7f2f70ef3a8e",
   "metadata": {},
   "outputs": [],
   "source": [
    "sc_x = StandardScaler()\n",
    "X_train = sc_x.fit_transform(X_train)\n",
    "X_test = sc_x.transform(X_test_data)"
   ]
  },
  {
   "cell_type": "markdown",
   "id": "69c43b5a-3415-4d5b-b5e7-6f8121c40bf2",
   "metadata": {},
   "source": [
    "# Converting train and test dataset to tensors"
   ]
  },
  {
   "cell_type": "code",
   "execution_count": 29,
   "id": "e298a6b7-8b25-4923-9c6f-2320af77d8e0",
   "metadata": {},
   "outputs": [],
   "source": [
    "X_train_tf = tf.data.Dataset.from_tensor_slices(tensors = X_train)\n",
    "y_train_tf = tf.data.Dataset.from_tensor_slices(tensors = y_train)\n",
    "\n",
    "X_test_tf = tf.data.Dataset.from_tensor_slices(tensors = X_test)\n",
    "y_test_tf = tf.data.Dataset.from_tensor_slices(tensors = y_test)"
   ]
  },
  {
   "cell_type": "markdown",
   "id": "9484c841-7d7c-4932-bc0b-853a97d79896",
   "metadata": {},
   "source": [
    "# Combining train and test tensors with zip function"
   ]
  },
  {
   "cell_type": "code",
   "execution_count": 30,
   "id": "489e766b-8f0f-48bc-974b-4118c0c7b7e6",
   "metadata": {},
   "outputs": [],
   "source": [
    "train_zip = tf.data.Dataset.zip(datasets=(X_train_tf , y_train_tf))\n",
    "test_zip = tf.data.Dataset.zip(datasets=(X_test_tf , y_test_tf))"
   ]
  },
  {
   "cell_type": "markdown",
   "id": "451af530-8aa1-4f94-87a1-573598f6c5d0",
   "metadata": {},
   "source": [
    "# Defining the batch sizes, creating train_set and test_set"
   ]
  },
  {
   "cell_type": "code",
   "execution_count": 31,
   "id": "e4d91b69-20c1-4228-863c-e924fef4bca4",
   "metadata": {},
   "outputs": [],
   "source": [
    "train_set = train_zip.batch(batch_size=64).prefetch(buffer_size=tf.data.AUTOTUNE)\n",
    "test_set = test_zip.batch(batch_size=64).prefetch(buffer_size=tf.data.AUTOTUNE)"
   ]
  },
  {
   "cell_type": "markdown",
   "id": "c8cff2bd-a916-47f8-8f9c-7d626d19ea55",
   "metadata": {},
   "source": [
    "# Creating the callbacks inside the function"
   ]
  },
  {
   "cell_type": "code",
   "execution_count": 32,
   "id": "ab5080ee-08da-4c20-a1a4-7324fd90ab57",
   "metadata": {},
   "outputs": [],
   "source": [
    "def callbacks_function(model_path , verbosity) : \n",
    "    early = EarlyStopping(monitor=\"val_loss\" , patience=20 , verbose=verbosity , restore_best_weights=True)\n",
    "    check = ModelCheckpoint(filepath=model_path , monitor=\"val_loss\" , verbose = verbosity , save_best_only=True)\n",
    "    \n",
    "    calbacks = [early , check]\n",
    "    \n",
    "    return calbacks"
   ]
  },
  {
   "cell_type": "markdown",
   "id": "eda16aaf-5c3f-4a2d-b765-ca5a16fdf064",
   "metadata": {},
   "source": [
    "# Modeling"
   ]
  },
  {
   "cell_type": "code",
   "execution_count": 33,
   "id": "602ce99a-6f97-4852-a344-4af19a2dead8",
   "metadata": {},
   "outputs": [
    {
     "name": "stdout",
     "output_type": "stream",
     "text": [
      "Epoch 1/500\n",
      "2824/2828 [============================>.] - ETA: 0s - loss: 0.5240 - accuracy: 0.7409\n",
      "Epoch 1: val_loss improved from inf to 0.50371, saving model to Neural_Network.h5\n",
      "2828/2828 [==============================] - 12s 4ms/step - loss: 0.5239 - accuracy: 0.7409 - val_loss: 0.5037 - val_accuracy: 0.7648\n",
      "Epoch 2/500\n",
      "2826/2828 [============================>.] - ETA: 0s - loss: 0.4901 - accuracy: 0.7644\n",
      "Epoch 2: val_loss improved from 0.50371 to 0.48057, saving model to Neural_Network.h5\n",
      "2828/2828 [==============================] - 11s 4ms/step - loss: 0.4901 - accuracy: 0.7644 - val_loss: 0.4806 - val_accuracy: 0.7719\n",
      "Epoch 3/500\n",
      "2818/2828 [============================>.] - ETA: 0s - loss: 0.4776 - accuracy: 0.7710\n",
      "Epoch 3: val_loss improved from 0.48057 to 0.47202, saving model to Neural_Network.h5\n",
      "2828/2828 [==============================] - 10s 4ms/step - loss: 0.4776 - accuracy: 0.7710 - val_loss: 0.4720 - val_accuracy: 0.7769\n",
      "Epoch 4/500\n",
      "2822/2828 [============================>.] - ETA: 0s - loss: 0.4684 - accuracy: 0.7756\n",
      "Epoch 4: val_loss improved from 0.47202 to 0.46692, saving model to Neural_Network.h5\n",
      "2828/2828 [==============================] - 11s 4ms/step - loss: 0.4684 - accuracy: 0.7756 - val_loss: 0.4669 - val_accuracy: 0.7834\n",
      "Epoch 5/500\n",
      "2825/2828 [============================>.] - ETA: 0s - loss: 0.4624 - accuracy: 0.7800\n",
      "Epoch 5: val_loss improved from 0.46692 to 0.45691, saving model to Neural_Network.h5\n",
      "2828/2828 [==============================] - 11s 4ms/step - loss: 0.4624 - accuracy: 0.7800 - val_loss: 0.4569 - val_accuracy: 0.7857\n",
      "Epoch 6/500\n",
      "2826/2828 [============================>.] - ETA: 0s - loss: 0.4585 - accuracy: 0.7818\n",
      "Epoch 6: val_loss improved from 0.45691 to 0.45366, saving model to Neural_Network.h5\n",
      "2828/2828 [==============================] - 11s 4ms/step - loss: 0.4584 - accuracy: 0.7819 - val_loss: 0.4537 - val_accuracy: 0.7875\n",
      "Epoch 7/500\n",
      "2828/2828 [==============================] - ETA: 0s - loss: 0.4549 - accuracy: 0.7833\n",
      "Epoch 7: val_loss improved from 0.45366 to 0.44797, saving model to Neural_Network.h5\n",
      "2828/2828 [==============================] - 12s 4ms/step - loss: 0.4549 - accuracy: 0.7833 - val_loss: 0.4480 - val_accuracy: 0.7916\n",
      "Epoch 8/500\n",
      "2828/2828 [==============================] - ETA: 0s - loss: 0.4519 - accuracy: 0.7848\n",
      "Epoch 8: val_loss improved from 0.44797 to 0.44789, saving model to Neural_Network.h5\n",
      "2828/2828 [==============================] - 17s 6ms/step - loss: 0.4519 - accuracy: 0.7848 - val_loss: 0.4479 - val_accuracy: 0.7877\n",
      "Epoch 9/500\n",
      "2827/2828 [============================>.] - ETA: 0s - loss: 0.4500 - accuracy: 0.7860\n",
      "Epoch 9: val_loss improved from 0.44789 to 0.44500, saving model to Neural_Network.h5\n",
      "2828/2828 [==============================] - 12s 4ms/step - loss: 0.4500 - accuracy: 0.7860 - val_loss: 0.4450 - val_accuracy: 0.7905\n",
      "Epoch 10/500\n",
      "2828/2828 [==============================] - ETA: 0s - loss: 0.4478 - accuracy: 0.7875\n",
      "Epoch 10: val_loss improved from 0.44500 to 0.44375, saving model to Neural_Network.h5\n",
      "2828/2828 [==============================] - 13s 5ms/step - loss: 0.4478 - accuracy: 0.7875 - val_loss: 0.4437 - val_accuracy: 0.7945\n",
      "Epoch 11/500\n",
      "2820/2828 [============================>.] - ETA: 0s - loss: 0.4457 - accuracy: 0.7890\n",
      "Epoch 11: val_loss did not improve from 0.44375\n",
      "2828/2828 [==============================] - 11s 4ms/step - loss: 0.4458 - accuracy: 0.7890 - val_loss: 0.4469 - val_accuracy: 0.7930\n",
      "Epoch 12/500\n",
      "2815/2828 [============================>.] - ETA: 0s - loss: 0.4423 - accuracy: 0.7904\n",
      "Epoch 12: val_loss improved from 0.44375 to 0.44358, saving model to Neural_Network.h5\n",
      "2828/2828 [==============================] - 14s 5ms/step - loss: 0.4424 - accuracy: 0.7905 - val_loss: 0.4436 - val_accuracy: 0.7945\n",
      "Epoch 13/500\n",
      "2816/2828 [============================>.] - ETA: 0s - loss: 0.4422 - accuracy: 0.7894\n",
      "Epoch 13: val_loss improved from 0.44358 to 0.44050, saving model to Neural_Network.h5\n",
      "2828/2828 [==============================] - 12s 4ms/step - loss: 0.4422 - accuracy: 0.7894 - val_loss: 0.4405 - val_accuracy: 0.7970\n",
      "Epoch 14/500\n",
      "2828/2828 [==============================] - ETA: 0s - loss: 0.4407 - accuracy: 0.7909\n",
      "Epoch 14: val_loss improved from 0.44050 to 0.43892, saving model to Neural_Network.h5\n",
      "2828/2828 [==============================] - 12s 4ms/step - loss: 0.4407 - accuracy: 0.7909 - val_loss: 0.4389 - val_accuracy: 0.7962\n",
      "Epoch 15/500\n",
      "2817/2828 [============================>.] - ETA: 0s - loss: 0.4382 - accuracy: 0.7918\n",
      "Epoch 15: val_loss did not improve from 0.43892\n",
      "2828/2828 [==============================] - 12s 4ms/step - loss: 0.4383 - accuracy: 0.7917 - val_loss: 0.4476 - val_accuracy: 0.7951\n",
      "Epoch 16/500\n",
      "2817/2828 [============================>.] - ETA: 0s - loss: 0.4377 - accuracy: 0.7927\n",
      "Epoch 16: val_loss improved from 0.43892 to 0.43727, saving model to Neural_Network.h5\n",
      "2828/2828 [==============================] - 11s 4ms/step - loss: 0.4377 - accuracy: 0.7927 - val_loss: 0.4373 - val_accuracy: 0.7987\n",
      "Epoch 17/500\n",
      "2819/2828 [============================>.] - ETA: 0s - loss: 0.4359 - accuracy: 0.7941\n",
      "Epoch 17: val_loss did not improve from 0.43727\n",
      "2828/2828 [==============================] - 12s 4ms/step - loss: 0.4360 - accuracy: 0.7941 - val_loss: 0.4434 - val_accuracy: 0.7962\n",
      "Epoch 18/500\n",
      "2826/2828 [============================>.] - ETA: 0s - loss: 0.4345 - accuracy: 0.7953\n",
      "Epoch 18: val_loss did not improve from 0.43727\n",
      "2828/2828 [==============================] - 12s 4ms/step - loss: 0.4345 - accuracy: 0.7953 - val_loss: 0.4385 - val_accuracy: 0.7968\n",
      "Epoch 19/500\n",
      "2818/2828 [============================>.] - ETA: 0s - loss: 0.4343 - accuracy: 0.7952\n",
      "Epoch 19: val_loss did not improve from 0.43727\n",
      "2828/2828 [==============================] - 12s 4ms/step - loss: 0.4344 - accuracy: 0.7953 - val_loss: 0.4390 - val_accuracy: 0.7989\n",
      "Epoch 20/500\n",
      "2825/2828 [============================>.] - ETA: 0s - loss: 0.4331 - accuracy: 0.7956\n",
      "Epoch 20: val_loss improved from 0.43727 to 0.43240, saving model to Neural_Network.h5\n",
      "2828/2828 [==============================] - 12s 4ms/step - loss: 0.4331 - accuracy: 0.7956 - val_loss: 0.4324 - val_accuracy: 0.8012\n",
      "Epoch 21/500\n",
      "2826/2828 [============================>.] - ETA: 0s - loss: 0.4324 - accuracy: 0.7967\n",
      "Epoch 21: val_loss did not improve from 0.43240\n",
      "2828/2828 [==============================] - 11s 4ms/step - loss: 0.4324 - accuracy: 0.7968 - val_loss: 0.4400 - val_accuracy: 0.7987\n",
      "Epoch 22/500\n",
      "2814/2828 [============================>.] - ETA: 0s - loss: 0.4308 - accuracy: 0.7980\n",
      "Epoch 22: val_loss did not improve from 0.43240\n",
      "2828/2828 [==============================] - 12s 4ms/step - loss: 0.4309 - accuracy: 0.7979 - val_loss: 0.4419 - val_accuracy: 0.7969\n",
      "Epoch 23/500\n",
      "2821/2828 [============================>.] - ETA: 0s - loss: 0.4299 - accuracy: 0.7980\n",
      "Epoch 23: val_loss did not improve from 0.43240\n",
      "2828/2828 [==============================] - 11s 4ms/step - loss: 0.4300 - accuracy: 0.7979 - val_loss: 0.4371 - val_accuracy: 0.7971\n",
      "Epoch 24/500\n",
      "2828/2828 [==============================] - ETA: 0s - loss: 0.4288 - accuracy: 0.7982\n",
      "Epoch 24: val_loss did not improve from 0.43240\n",
      "2828/2828 [==============================] - 10s 4ms/step - loss: 0.4288 - accuracy: 0.7982 - val_loss: 0.4341 - val_accuracy: 0.8001\n",
      "Epoch 25/500\n",
      "2828/2828 [==============================] - ETA: 0s - loss: 0.4279 - accuracy: 0.7987\n",
      "Epoch 25: val_loss did not improve from 0.43240\n",
      "2828/2828 [==============================] - 11s 4ms/step - loss: 0.4279 - accuracy: 0.7987 - val_loss: 0.4444 - val_accuracy: 0.8006\n",
      "Epoch 26/500\n",
      "2815/2828 [============================>.] - ETA: 0s - loss: 0.4273 - accuracy: 0.7994\n",
      "Epoch 26: val_loss did not improve from 0.43240\n",
      "2828/2828 [==============================] - 11s 4ms/step - loss: 0.4274 - accuracy: 0.7993 - val_loss: 0.4340 - val_accuracy: 0.7972\n",
      "Epoch 27/500\n",
      "2821/2828 [============================>.] - ETA: 0s - loss: 0.4266 - accuracy: 0.7991\n",
      "Epoch 27: val_loss did not improve from 0.43240\n",
      "2828/2828 [==============================] - 12s 4ms/step - loss: 0.4266 - accuracy: 0.7991 - val_loss: 0.4408 - val_accuracy: 0.8018\n",
      "Epoch 28/500\n",
      "2814/2828 [============================>.] - ETA: 0s - loss: 0.4257 - accuracy: 0.8002\n",
      "Epoch 28: val_loss did not improve from 0.43240\n",
      "2828/2828 [==============================] - 11s 4ms/step - loss: 0.4258 - accuracy: 0.8001 - val_loss: 0.4405 - val_accuracy: 0.8020\n",
      "Epoch 29/500\n",
      "2818/2828 [============================>.] - ETA: 0s - loss: 0.4255 - accuracy: 0.7999\n",
      "Epoch 29: val_loss improved from 0.43240 to 0.43035, saving model to Neural_Network.h5\n",
      "2828/2828 [==============================] - 13s 4ms/step - loss: 0.4255 - accuracy: 0.7999 - val_loss: 0.4303 - val_accuracy: 0.8030\n",
      "Epoch 30/500\n",
      "2824/2828 [============================>.] - ETA: 0s - loss: 0.4234 - accuracy: 0.8020\n",
      "Epoch 30: val_loss did not improve from 0.43035\n",
      "2828/2828 [==============================] - 11s 4ms/step - loss: 0.4234 - accuracy: 0.8020 - val_loss: 0.4326 - val_accuracy: 0.7972\n",
      "Epoch 31/500\n",
      "2817/2828 [============================>.] - ETA: 0s - loss: 0.4245 - accuracy: 0.8009\n",
      "Epoch 31: val_loss did not improve from 0.43035\n",
      "2828/2828 [==============================] - 11s 4ms/step - loss: 0.4246 - accuracy: 0.8009 - val_loss: 0.4335 - val_accuracy: 0.8041\n",
      "Epoch 32/500\n",
      "2828/2828 [==============================] - ETA: 0s - loss: 0.4235 - accuracy: 0.8016\n",
      "Epoch 32: val_loss did not improve from 0.43035\n",
      "2828/2828 [==============================] - 16s 6ms/step - loss: 0.4235 - accuracy: 0.8016 - val_loss: 0.4368 - val_accuracy: 0.8028\n",
      "Epoch 33/500\n",
      "2827/2828 [============================>.] - ETA: 0s - loss: 0.4226 - accuracy: 0.8028\n",
      "Epoch 33: val_loss did not improve from 0.43035\n",
      "2828/2828 [==============================] - 17s 6ms/step - loss: 0.4226 - accuracy: 0.8029 - val_loss: 0.4361 - val_accuracy: 0.8030\n",
      "Epoch 34/500\n",
      "2826/2828 [============================>.] - ETA: 0s - loss: 0.4229 - accuracy: 0.8017\n",
      "Epoch 34: val_loss improved from 0.43035 to 0.42656, saving model to Neural_Network.h5\n",
      "2828/2828 [==============================] - 16s 6ms/step - loss: 0.4229 - accuracy: 0.8017 - val_loss: 0.4266 - val_accuracy: 0.8053\n",
      "Epoch 35/500\n",
      "2826/2828 [============================>.] - ETA: 0s - loss: 0.4214 - accuracy: 0.8029\n",
      "Epoch 35: val_loss did not improve from 0.42656\n",
      "2828/2828 [==============================] - 16s 6ms/step - loss: 0.4214 - accuracy: 0.8030 - val_loss: 0.4295 - val_accuracy: 0.8046\n",
      "Epoch 36/500\n",
      "2827/2828 [============================>.] - ETA: 0s - loss: 0.4217 - accuracy: 0.8022\n",
      "Epoch 36: val_loss did not improve from 0.42656\n",
      "2828/2828 [==============================] - 13s 5ms/step - loss: 0.4216 - accuracy: 0.8022 - val_loss: 0.4362 - val_accuracy: 0.8024\n",
      "Epoch 37/500\n",
      "2818/2828 [============================>.] - ETA: 0s - loss: 0.4200 - accuracy: 0.8036\n",
      "Epoch 37: val_loss did not improve from 0.42656\n",
      "2828/2828 [==============================] - 12s 4ms/step - loss: 0.4200 - accuracy: 0.8037 - val_loss: 0.4308 - val_accuracy: 0.8031\n",
      "Epoch 38/500\n",
      "2822/2828 [============================>.] - ETA: 0s - loss: 0.4209 - accuracy: 0.8038\n",
      "Epoch 38: val_loss did not improve from 0.42656\n",
      "2828/2828 [==============================] - 13s 5ms/step - loss: 0.4209 - accuracy: 0.8038 - val_loss: 0.4295 - val_accuracy: 0.8039\n",
      "Epoch 39/500\n",
      "2820/2828 [============================>.] - ETA: 0s - loss: 0.4197 - accuracy: 0.8038\n",
      "Epoch 39: val_loss did not improve from 0.42656\n",
      "2828/2828 [==============================] - 12s 4ms/step - loss: 0.4197 - accuracy: 0.8038 - val_loss: 0.4301 - val_accuracy: 0.8036\n",
      "Epoch 40/500\n",
      "2819/2828 [============================>.] - ETA: 0s - loss: 0.4197 - accuracy: 0.8042\n",
      "Epoch 40: val_loss did not improve from 0.42656\n",
      "2828/2828 [==============================] - 14s 5ms/step - loss: 0.4197 - accuracy: 0.8041 - val_loss: 0.4289 - val_accuracy: 0.8059\n",
      "Epoch 41/500\n",
      "2818/2828 [============================>.] - ETA: 0s - loss: 0.4194 - accuracy: 0.8039\n",
      "Epoch 41: val_loss did not improve from 0.42656\n",
      "2828/2828 [==============================] - 11s 4ms/step - loss: 0.4194 - accuracy: 0.8038 - val_loss: 0.4281 - val_accuracy: 0.8067\n",
      "Epoch 42/500\n",
      "2828/2828 [==============================] - ETA: 0s - loss: 0.4185 - accuracy: 0.8043\n",
      "Epoch 42: val_loss improved from 0.42656 to 0.42444, saving model to Neural_Network.h5\n",
      "2828/2828 [==============================] - 11s 4ms/step - loss: 0.4185 - accuracy: 0.8043 - val_loss: 0.4244 - val_accuracy: 0.8063\n",
      "Epoch 43/500\n",
      "2816/2828 [============================>.] - ETA: 0s - loss: 0.4182 - accuracy: 0.8044\n",
      "Epoch 43: val_loss did not improve from 0.42444\n",
      "2828/2828 [==============================] - 12s 4ms/step - loss: 0.4183 - accuracy: 0.8043 - val_loss: 0.4399 - val_accuracy: 0.8062\n",
      "Epoch 44/500\n",
      "2828/2828 [==============================] - ETA: 0s - loss: 0.4181 - accuracy: 0.8055\n",
      "Epoch 44: val_loss did not improve from 0.42444\n",
      "2828/2828 [==============================] - 11s 4ms/step - loss: 0.4181 - accuracy: 0.8055 - val_loss: 0.4319 - val_accuracy: 0.8052\n",
      "Epoch 45/500\n",
      "2828/2828 [==============================] - ETA: 0s - loss: 0.4189 - accuracy: 0.8058\n",
      "Epoch 45: val_loss did not improve from 0.42444\n",
      "2828/2828 [==============================] - 12s 4ms/step - loss: 0.4189 - accuracy: 0.8058 - val_loss: 0.4276 - val_accuracy: 0.8072\n",
      "Epoch 46/500\n",
      "2825/2828 [============================>.] - ETA: 0s - loss: 0.4176 - accuracy: 0.8050\n",
      "Epoch 46: val_loss did not improve from 0.42444\n",
      "2828/2828 [==============================] - 12s 4ms/step - loss: 0.4176 - accuracy: 0.8049 - val_loss: 0.4264 - val_accuracy: 0.8027\n",
      "Epoch 47/500\n",
      "2828/2828 [==============================] - ETA: 0s - loss: 0.4151 - accuracy: 0.8074\n",
      "Epoch 47: val_loss did not improve from 0.42444\n",
      "2828/2828 [==============================] - 11s 4ms/step - loss: 0.4151 - accuracy: 0.8074 - val_loss: 0.4305 - val_accuracy: 0.8044\n",
      "Epoch 48/500\n",
      "2815/2828 [============================>.] - ETA: 0s - loss: 0.4161 - accuracy: 0.8062\n",
      "Epoch 48: val_loss did not improve from 0.42444\n",
      "2828/2828 [==============================] - 10s 4ms/step - loss: 0.4162 - accuracy: 0.8062 - val_loss: 0.4255 - val_accuracy: 0.8059\n",
      "Epoch 49/500\n",
      "2820/2828 [============================>.] - ETA: 0s - loss: 0.4152 - accuracy: 0.8070\n",
      "Epoch 49: val_loss did not improve from 0.42444\n",
      "2828/2828 [==============================] - 11s 4ms/step - loss: 0.4154 - accuracy: 0.8070 - val_loss: 0.4288 - val_accuracy: 0.8043\n",
      "Epoch 50/500\n",
      "2825/2828 [============================>.] - ETA: 0s - loss: 0.4154 - accuracy: 0.8064\n",
      "Epoch 50: val_loss did not improve from 0.42444\n",
      "2828/2828 [==============================] - 10s 4ms/step - loss: 0.4154 - accuracy: 0.8064 - val_loss: 0.4273 - val_accuracy: 0.8080\n",
      "Epoch 51/500\n",
      "2817/2828 [============================>.] - ETA: 0s - loss: 0.4157 - accuracy: 0.8079\n",
      "Epoch 51: val_loss did not improve from 0.42444\n",
      "2828/2828 [==============================] - 11s 4ms/step - loss: 0.4158 - accuracy: 0.8078 - val_loss: 0.4265 - val_accuracy: 0.8077\n",
      "Epoch 52/500\n",
      "2822/2828 [============================>.] - ETA: 0s - loss: 0.4152 - accuracy: 0.8073\n",
      "Epoch 52: val_loss improved from 0.42444 to 0.42279, saving model to Neural_Network.h5\n",
      "2828/2828 [==============================] - 11s 4ms/step - loss: 0.4152 - accuracy: 0.8072 - val_loss: 0.4228 - val_accuracy: 0.8071\n",
      "Epoch 53/500\n",
      "2822/2828 [============================>.] - ETA: 0s - loss: 0.4149 - accuracy: 0.8066\n",
      "Epoch 53: val_loss did not improve from 0.42279\n",
      "2828/2828 [==============================] - 11s 4ms/step - loss: 0.4149 - accuracy: 0.8065 - val_loss: 0.4260 - val_accuracy: 0.8057\n",
      "Epoch 54/500\n",
      "2825/2828 [============================>.] - ETA: 0s - loss: 0.4137 - accuracy: 0.8067\n",
      "Epoch 54: val_loss did not improve from 0.42279\n",
      "2828/2828 [==============================] - 11s 4ms/step - loss: 0.4137 - accuracy: 0.8067 - val_loss: 0.4272 - val_accuracy: 0.8084\n",
      "Epoch 55/500\n",
      "2824/2828 [============================>.] - ETA: 0s - loss: 0.4134 - accuracy: 0.8082\n",
      "Epoch 55: val_loss did not improve from 0.42279\n",
      "2828/2828 [==============================] - 11s 4ms/step - loss: 0.4134 - accuracy: 0.8082 - val_loss: 0.4268 - val_accuracy: 0.8066\n",
      "Epoch 56/500\n",
      "2819/2828 [============================>.] - ETA: 0s - loss: 0.4130 - accuracy: 0.8089\n",
      "Epoch 56: val_loss did not improve from 0.42279\n",
      "2828/2828 [==============================] - 11s 4ms/step - loss: 0.4130 - accuracy: 0.8090 - val_loss: 0.4281 - val_accuracy: 0.8091\n",
      "Epoch 57/500\n",
      "2824/2828 [============================>.] - ETA: 0s - loss: 0.4125 - accuracy: 0.8082\n",
      "Epoch 57: val_loss did not improve from 0.42279\n",
      "2828/2828 [==============================] - 11s 4ms/step - loss: 0.4125 - accuracy: 0.8082 - val_loss: 0.4327 - val_accuracy: 0.8091\n",
      "Epoch 58/500\n",
      "2827/2828 [============================>.] - ETA: 0s - loss: 0.4125 - accuracy: 0.8094\n",
      "Epoch 58: val_loss did not improve from 0.42279\n",
      "2828/2828 [==============================] - 11s 4ms/step - loss: 0.4124 - accuracy: 0.8094 - val_loss: 0.4275 - val_accuracy: 0.8077\n",
      "Epoch 59/500\n",
      "2814/2828 [============================>.] - ETA: 0s - loss: 0.4126 - accuracy: 0.8084\n",
      "Epoch 59: val_loss did not improve from 0.42279\n",
      "2828/2828 [==============================] - 11s 4ms/step - loss: 0.4127 - accuracy: 0.8083 - val_loss: 0.4275 - val_accuracy: 0.8077\n",
      "Epoch 60/500\n",
      "2821/2828 [============================>.] - ETA: 0s - loss: 0.4120 - accuracy: 0.8083\n",
      "Epoch 60: val_loss did not improve from 0.42279\n",
      "2828/2828 [==============================] - 11s 4ms/step - loss: 0.4120 - accuracy: 0.8083 - val_loss: 0.4240 - val_accuracy: 0.8103\n",
      "Epoch 61/500\n",
      "2828/2828 [==============================] - ETA: 0s - loss: 0.4115 - accuracy: 0.8092\n",
      "Epoch 61: val_loss improved from 0.42279 to 0.42210, saving model to Neural_Network.h5\n",
      "2828/2828 [==============================] - 11s 4ms/step - loss: 0.4115 - accuracy: 0.8092 - val_loss: 0.4221 - val_accuracy: 0.8078\n",
      "Epoch 62/500\n",
      "2824/2828 [============================>.] - ETA: 0s - loss: 0.4107 - accuracy: 0.8090\n",
      "Epoch 62: val_loss did not improve from 0.42210\n",
      "2828/2828 [==============================] - 11s 4ms/step - loss: 0.4107 - accuracy: 0.8090 - val_loss: 0.4235 - val_accuracy: 0.8107\n",
      "Epoch 63/500\n",
      "2827/2828 [============================>.] - ETA: 0s - loss: 0.4106 - accuracy: 0.8091\n",
      "Epoch 63: val_loss improved from 0.42210 to 0.41961, saving model to Neural_Network.h5\n",
      "2828/2828 [==============================] - 11s 4ms/step - loss: 0.4106 - accuracy: 0.8091 - val_loss: 0.4196 - val_accuracy: 0.8087\n",
      "Epoch 64/500\n",
      "2824/2828 [============================>.] - ETA: 0s - loss: 0.4110 - accuracy: 0.8088\n",
      "Epoch 64: val_loss did not improve from 0.41961\n",
      "2828/2828 [==============================] - 11s 4ms/step - loss: 0.4110 - accuracy: 0.8088 - val_loss: 0.4202 - val_accuracy: 0.8087\n",
      "Epoch 65/500\n",
      "2827/2828 [============================>.] - ETA: 0s - loss: 0.4098 - accuracy: 0.8104\n",
      "Epoch 65: val_loss improved from 0.41961 to 0.41927, saving model to Neural_Network.h5\n",
      "2828/2828 [==============================] - 11s 4ms/step - loss: 0.4098 - accuracy: 0.8105 - val_loss: 0.4193 - val_accuracy: 0.8108\n",
      "Epoch 66/500\n",
      "2817/2828 [============================>.] - ETA: 0s - loss: 0.4102 - accuracy: 0.8099\n",
      "Epoch 66: val_loss did not improve from 0.41927\n",
      "2828/2828 [==============================] - 11s 4ms/step - loss: 0.4103 - accuracy: 0.8099 - val_loss: 0.4245 - val_accuracy: 0.8080\n",
      "Epoch 67/500\n",
      "2817/2828 [============================>.] - ETA: 0s - loss: 0.4102 - accuracy: 0.8096\n",
      "Epoch 67: val_loss did not improve from 0.41927\n",
      "2828/2828 [==============================] - 11s 4ms/step - loss: 0.4103 - accuracy: 0.8096 - val_loss: 0.4254 - val_accuracy: 0.8055\n",
      "Epoch 68/500\n",
      "2824/2828 [============================>.] - ETA: 0s - loss: 0.4103 - accuracy: 0.8103\n",
      "Epoch 68: val_loss did not improve from 0.41927\n",
      "2828/2828 [==============================] - 11s 4ms/step - loss: 0.4102 - accuracy: 0.8103 - val_loss: 0.4196 - val_accuracy: 0.8071\n",
      "Epoch 69/500\n",
      "2824/2828 [============================>.] - ETA: 0s - loss: 0.4098 - accuracy: 0.8107\n",
      "Epoch 69: val_loss did not improve from 0.41927\n",
      "2828/2828 [==============================] - 11s 4ms/step - loss: 0.4098 - accuracy: 0.8107 - val_loss: 0.4223 - val_accuracy: 0.8087\n",
      "Epoch 70/500\n",
      "2818/2828 [============================>.] - ETA: 0s - loss: 0.4094 - accuracy: 0.8108\n",
      "Epoch 70: val_loss did not improve from 0.41927\n",
      "2828/2828 [==============================] - 11s 4ms/step - loss: 0.4094 - accuracy: 0.8108 - val_loss: 0.4201 - val_accuracy: 0.8083\n",
      "Epoch 71/500\n",
      "2815/2828 [============================>.] - ETA: 0s - loss: 0.4091 - accuracy: 0.8103\n",
      "Epoch 71: val_loss did not improve from 0.41927\n",
      "2828/2828 [==============================] - 11s 4ms/step - loss: 0.4092 - accuracy: 0.8104 - val_loss: 0.4242 - val_accuracy: 0.8072\n",
      "Epoch 72/500\n",
      "2819/2828 [============================>.] - ETA: 0s - loss: 0.4085 - accuracy: 0.8103\n",
      "Epoch 72: val_loss did not improve from 0.41927\n",
      "2828/2828 [==============================] - 11s 4ms/step - loss: 0.4086 - accuracy: 0.8104 - val_loss: 0.4253 - val_accuracy: 0.8054\n",
      "Epoch 73/500\n",
      "2825/2828 [============================>.] - ETA: 0s - loss: 0.4077 - accuracy: 0.8109\n",
      "Epoch 73: val_loss did not improve from 0.41927\n",
      "2828/2828 [==============================] - 11s 4ms/step - loss: 0.4077 - accuracy: 0.8109 - val_loss: 0.4259 - val_accuracy: 0.8088\n",
      "Epoch 74/500\n",
      "2815/2828 [============================>.] - ETA: 0s - loss: 0.4085 - accuracy: 0.8100\n",
      "Epoch 74: val_loss did not improve from 0.41927\n",
      "2828/2828 [==============================] - 11s 4ms/step - loss: 0.4087 - accuracy: 0.8100 - val_loss: 0.4273 - val_accuracy: 0.8075\n",
      "Epoch 75/500\n",
      "2815/2828 [============================>.] - ETA: 0s - loss: 0.4084 - accuracy: 0.8107\n",
      "Epoch 75: val_loss did not improve from 0.41927\n",
      "2828/2828 [==============================] - 11s 4ms/step - loss: 0.4085 - accuracy: 0.8107 - val_loss: 0.4280 - val_accuracy: 0.8040\n",
      "Epoch 76/500\n",
      "2822/2828 [============================>.] - ETA: 0s - loss: 0.4080 - accuracy: 0.8109\n",
      "Epoch 76: val_loss did not improve from 0.41927\n",
      "2828/2828 [==============================] - 12s 4ms/step - loss: 0.4080 - accuracy: 0.8109 - val_loss: 0.4231 - val_accuracy: 0.8067\n",
      "Epoch 77/500\n",
      "2815/2828 [============================>.] - ETA: 0s - loss: 0.4078 - accuracy: 0.8107\n",
      "Epoch 77: val_loss did not improve from 0.41927\n",
      "2828/2828 [==============================] - 11s 4ms/step - loss: 0.4079 - accuracy: 0.8107 - val_loss: 0.4202 - val_accuracy: 0.8104\n",
      "Epoch 78/500\n",
      "2816/2828 [============================>.] - ETA: 0s - loss: 0.4061 - accuracy: 0.8127\n",
      "Epoch 78: val_loss improved from 0.41927 to 0.41740, saving model to Neural_Network.h5\n",
      "2828/2828 [==============================] - 11s 4ms/step - loss: 0.4061 - accuracy: 0.8127 - val_loss: 0.4174 - val_accuracy: 0.8100\n",
      "Epoch 79/500\n",
      "2820/2828 [============================>.] - ETA: 0s - loss: 0.4093 - accuracy: 0.8110\n",
      "Epoch 79: val_loss did not improve from 0.41740\n",
      "2828/2828 [==============================] - 11s 4ms/step - loss: 0.4094 - accuracy: 0.8109 - val_loss: 0.4277 - val_accuracy: 0.8086\n",
      "Epoch 80/500\n",
      "2828/2828 [==============================] - ETA: 0s - loss: 0.4073 - accuracy: 0.8115\n",
      "Epoch 80: val_loss did not improve from 0.41740\n",
      "2828/2828 [==============================] - 11s 4ms/step - loss: 0.4073 - accuracy: 0.8115 - val_loss: 0.4203 - val_accuracy: 0.8085\n",
      "Epoch 81/500\n",
      "2827/2828 [============================>.] - ETA: 0s - loss: 0.4073 - accuracy: 0.8115\n",
      "Epoch 81: val_loss did not improve from 0.41740\n",
      "2828/2828 [==============================] - 11s 4ms/step - loss: 0.4073 - accuracy: 0.8116 - val_loss: 0.4210 - val_accuracy: 0.8082\n",
      "Epoch 82/500\n",
      "2815/2828 [============================>.] - ETA: 0s - loss: 0.4062 - accuracy: 0.8127\n",
      "Epoch 82: val_loss did not improve from 0.41740\n",
      "2828/2828 [==============================] - 11s 4ms/step - loss: 0.4064 - accuracy: 0.8126 - val_loss: 0.4306 - val_accuracy: 0.8065\n",
      "Epoch 83/500\n",
      "2815/2828 [============================>.] - ETA: 0s - loss: 0.4064 - accuracy: 0.8117\n",
      "Epoch 83: val_loss did not improve from 0.41740\n",
      "2828/2828 [==============================] - 11s 4ms/step - loss: 0.4065 - accuracy: 0.8116 - val_loss: 0.4252 - val_accuracy: 0.8035\n",
      "Epoch 84/500\n",
      "2822/2828 [============================>.] - ETA: 0s - loss: 0.4066 - accuracy: 0.8120\n",
      "Epoch 84: val_loss did not improve from 0.41740\n",
      "2828/2828 [==============================] - 11s 4ms/step - loss: 0.4066 - accuracy: 0.8120 - val_loss: 0.4244 - val_accuracy: 0.8064\n",
      "Epoch 85/500\n",
      "2825/2828 [============================>.] - ETA: 0s - loss: 0.4050 - accuracy: 0.8126\n",
      "Epoch 85: val_loss did not improve from 0.41740\n",
      "2828/2828 [==============================] - 11s 4ms/step - loss: 0.4050 - accuracy: 0.8126 - val_loss: 0.4182 - val_accuracy: 0.8101\n",
      "Epoch 86/500\n",
      "2822/2828 [============================>.] - ETA: 0s - loss: 0.4066 - accuracy: 0.8117\n",
      "Epoch 86: val_loss did not improve from 0.41740\n",
      "2828/2828 [==============================] - 11s 4ms/step - loss: 0.4066 - accuracy: 0.8116 - val_loss: 0.4216 - val_accuracy: 0.8111\n",
      "Epoch 87/500\n",
      "2816/2828 [============================>.] - ETA: 0s - loss: 0.4053 - accuracy: 0.8131\n",
      "Epoch 87: val_loss did not improve from 0.41740\n",
      "2828/2828 [==============================] - 11s 4ms/step - loss: 0.4053 - accuracy: 0.8130 - val_loss: 0.4229 - val_accuracy: 0.8090\n",
      "Epoch 88/500\n",
      "2828/2828 [==============================] - ETA: 0s - loss: 0.4056 - accuracy: 0.8119\n",
      "Epoch 88: val_loss did not improve from 0.41740\n",
      "2828/2828 [==============================] - 11s 4ms/step - loss: 0.4056 - accuracy: 0.8119 - val_loss: 0.4230 - val_accuracy: 0.8057\n",
      "Epoch 89/500\n",
      "2828/2828 [==============================] - ETA: 0s - loss: 0.4039 - accuracy: 0.8136\n",
      "Epoch 89: val_loss did not improve from 0.41740\n",
      "2828/2828 [==============================] - 11s 4ms/step - loss: 0.4039 - accuracy: 0.8136 - val_loss: 0.4264 - val_accuracy: 0.8088\n",
      "Epoch 90/500\n",
      "2819/2828 [============================>.] - ETA: 0s - loss: 0.4051 - accuracy: 0.8130\n",
      "Epoch 90: val_loss did not improve from 0.41740\n",
      "2828/2828 [==============================] - 11s 4ms/step - loss: 0.4052 - accuracy: 0.8130 - val_loss: 0.4255 - val_accuracy: 0.8087\n",
      "Epoch 91/500\n",
      "2817/2828 [============================>.] - ETA: 0s - loss: 0.4056 - accuracy: 0.8124\n",
      "Epoch 91: val_loss did not improve from 0.41740\n",
      "2828/2828 [==============================] - 11s 4ms/step - loss: 0.4056 - accuracy: 0.8125 - val_loss: 0.4258 - val_accuracy: 0.8074\n",
      "Epoch 92/500\n",
      "2826/2828 [============================>.] - ETA: 0s - loss: 0.4059 - accuracy: 0.8124\n",
      "Epoch 92: val_loss did not improve from 0.41740\n",
      "2828/2828 [==============================] - 11s 4ms/step - loss: 0.4059 - accuracy: 0.8124 - val_loss: 0.4219 - val_accuracy: 0.8046\n",
      "Epoch 93/500\n",
      "2819/2828 [============================>.] - ETA: 0s - loss: 0.4037 - accuracy: 0.8129\n",
      "Epoch 93: val_loss did not improve from 0.41740\n",
      "2828/2828 [==============================] - 11s 4ms/step - loss: 0.4037 - accuracy: 0.8130 - val_loss: 0.4179 - val_accuracy: 0.8071\n",
      "Epoch 94/500\n",
      "2828/2828 [==============================] - ETA: 0s - loss: 0.4048 - accuracy: 0.8131\n",
      "Epoch 94: val_loss improved from 0.41740 to 0.41739, saving model to Neural_Network.h5\n",
      "2828/2828 [==============================] - 11s 4ms/step - loss: 0.4048 - accuracy: 0.8131 - val_loss: 0.4174 - val_accuracy: 0.8136\n",
      "Epoch 95/500\n",
      "2818/2828 [============================>.] - ETA: 0s - loss: 0.4043 - accuracy: 0.8131\n",
      "Epoch 95: val_loss did not improve from 0.41739\n",
      "2828/2828 [==============================] - 11s 4ms/step - loss: 0.4043 - accuracy: 0.8131 - val_loss: 0.4214 - val_accuracy: 0.8061\n",
      "Epoch 96/500\n",
      "2820/2828 [============================>.] - ETA: 0s - loss: 0.4044 - accuracy: 0.8140\n",
      "Epoch 96: val_loss did not improve from 0.41739\n",
      "2828/2828 [==============================] - 11s 4ms/step - loss: 0.4045 - accuracy: 0.8140 - val_loss: 0.4242 - val_accuracy: 0.8113\n",
      "Epoch 97/500\n",
      "2814/2828 [============================>.] - ETA: 0s - loss: 0.4035 - accuracy: 0.8147\n",
      "Epoch 97: val_loss did not improve from 0.41739\n",
      "2828/2828 [==============================] - 11s 4ms/step - loss: 0.4036 - accuracy: 0.8146 - val_loss: 0.4231 - val_accuracy: 0.8100\n",
      "Epoch 98/500\n",
      "2819/2828 [============================>.] - ETA: 0s - loss: 0.4039 - accuracy: 0.8133\n",
      "Epoch 98: val_loss did not improve from 0.41739\n",
      "2828/2828 [==============================] - 11s 4ms/step - loss: 0.4039 - accuracy: 0.8133 - val_loss: 0.4194 - val_accuracy: 0.8112\n",
      "Epoch 99/500\n",
      "2822/2828 [============================>.] - ETA: 0s - loss: 0.4034 - accuracy: 0.8145\n",
      "Epoch 99: val_loss did not improve from 0.41739\n",
      "2828/2828 [==============================] - 11s 4ms/step - loss: 0.4034 - accuracy: 0.8145 - val_loss: 0.4246 - val_accuracy: 0.8037\n",
      "Epoch 100/500\n",
      "2818/2828 [============================>.] - ETA: 0s - loss: 0.4026 - accuracy: 0.8142\n",
      "Epoch 100: val_loss improved from 0.41739 to 0.41200, saving model to Neural_Network.h5\n",
      "2828/2828 [==============================] - 11s 4ms/step - loss: 0.4026 - accuracy: 0.8142 - val_loss: 0.4120 - val_accuracy: 0.8124\n",
      "Epoch 101/500\n",
      "2821/2828 [============================>.] - ETA: 0s - loss: 0.4035 - accuracy: 0.8126\n",
      "Epoch 101: val_loss did not improve from 0.41200\n",
      "2828/2828 [==============================] - 11s 4ms/step - loss: 0.4035 - accuracy: 0.8126 - val_loss: 0.4228 - val_accuracy: 0.8086\n",
      "Epoch 102/500\n",
      "2828/2828 [==============================] - ETA: 0s - loss: 0.4024 - accuracy: 0.8149\n",
      "Epoch 102: val_loss did not improve from 0.41200\n",
      "2828/2828 [==============================] - 11s 4ms/step - loss: 0.4024 - accuracy: 0.8149 - val_loss: 0.4170 - val_accuracy: 0.8106\n",
      "Epoch 103/500\n",
      "2817/2828 [============================>.] - ETA: 0s - loss: 0.4034 - accuracy: 0.8133\n",
      "Epoch 103: val_loss did not improve from 0.41200\n",
      "2828/2828 [==============================] - 11s 4ms/step - loss: 0.4035 - accuracy: 0.8133 - val_loss: 0.4297 - val_accuracy: 0.8054\n",
      "Epoch 104/500\n",
      "2825/2828 [============================>.] - ETA: 0s - loss: 0.4026 - accuracy: 0.8134\n",
      "Epoch 104: val_loss did not improve from 0.41200\n",
      "2828/2828 [==============================] - 11s 4ms/step - loss: 0.4026 - accuracy: 0.8134 - val_loss: 0.4182 - val_accuracy: 0.8129\n",
      "Epoch 105/500\n",
      "2815/2828 [============================>.] - ETA: 0s - loss: 0.4025 - accuracy: 0.8141\n",
      "Epoch 105: val_loss did not improve from 0.41200\n",
      "2828/2828 [==============================] - 11s 4ms/step - loss: 0.4025 - accuracy: 0.8140 - val_loss: 0.4194 - val_accuracy: 0.8101\n",
      "Epoch 106/500\n",
      "2826/2828 [============================>.] - ETA: 0s - loss: 0.4022 - accuracy: 0.8142\n",
      "Epoch 106: val_loss did not improve from 0.41200\n",
      "2828/2828 [==============================] - 11s 4ms/step - loss: 0.4021 - accuracy: 0.8142 - val_loss: 0.4222 - val_accuracy: 0.8093\n",
      "Epoch 107/500\n",
      "2821/2828 [============================>.] - ETA: 0s - loss: 0.4021 - accuracy: 0.8151\n",
      "Epoch 107: val_loss did not improve from 0.41200\n",
      "2828/2828 [==============================] - 11s 4ms/step - loss: 0.4021 - accuracy: 0.8151 - val_loss: 0.4271 - val_accuracy: 0.8103\n",
      "Epoch 108/500\n",
      "2821/2828 [============================>.] - ETA: 0s - loss: 0.4011 - accuracy: 0.8156\n",
      "Epoch 108: val_loss did not improve from 0.41200\n",
      "2828/2828 [==============================] - 11s 4ms/step - loss: 0.4012 - accuracy: 0.8156 - val_loss: 0.4174 - val_accuracy: 0.8102\n",
      "Epoch 109/500\n",
      "2817/2828 [============================>.] - ETA: 0s - loss: 0.4024 - accuracy: 0.8135\n",
      "Epoch 109: val_loss did not improve from 0.41200\n",
      "2828/2828 [==============================] - 11s 4ms/step - loss: 0.4025 - accuracy: 0.8135 - val_loss: 0.4202 - val_accuracy: 0.8104\n",
      "Epoch 110/500\n",
      "2818/2828 [============================>.] - ETA: 0s - loss: 0.4026 - accuracy: 0.8146\n",
      "Epoch 110: val_loss did not improve from 0.41200\n",
      "2828/2828 [==============================] - 11s 4ms/step - loss: 0.4027 - accuracy: 0.8146 - val_loss: 0.4162 - val_accuracy: 0.8108\n",
      "Epoch 111/500\n",
      "2816/2828 [============================>.] - ETA: 0s - loss: 0.4014 - accuracy: 0.8149\n",
      "Epoch 111: val_loss did not improve from 0.41200\n",
      "2828/2828 [==============================] - 11s 4ms/step - loss: 0.4015 - accuracy: 0.8149 - val_loss: 0.4186 - val_accuracy: 0.8105\n",
      "Epoch 112/500\n",
      "2823/2828 [============================>.] - ETA: 0s - loss: 0.4012 - accuracy: 0.8153\n",
      "Epoch 112: val_loss did not improve from 0.41200\n",
      "2828/2828 [==============================] - 11s 4ms/step - loss: 0.4012 - accuracy: 0.8154 - val_loss: 0.4145 - val_accuracy: 0.8117\n",
      "Epoch 113/500\n",
      "2816/2828 [============================>.] - ETA: 0s - loss: 0.4020 - accuracy: 0.8149\n",
      "Epoch 113: val_loss did not improve from 0.41200\n",
      "2828/2828 [==============================] - 11s 4ms/step - loss: 0.4020 - accuracy: 0.8149 - val_loss: 0.4168 - val_accuracy: 0.8130\n",
      "Epoch 114/500\n",
      "2827/2828 [============================>.] - ETA: 0s - loss: 0.4008 - accuracy: 0.8150\n",
      "Epoch 114: val_loss did not improve from 0.41200\n",
      "2828/2828 [==============================] - 11s 4ms/step - loss: 0.4008 - accuracy: 0.8150 - val_loss: 0.4196 - val_accuracy: 0.8117\n",
      "Epoch 115/500\n",
      "2823/2828 [============================>.] - ETA: 0s - loss: 0.4027 - accuracy: 0.8143\n",
      "Epoch 115: val_loss did not improve from 0.41200\n",
      "2828/2828 [==============================] - 11s 4ms/step - loss: 0.4027 - accuracy: 0.8143 - val_loss: 0.4205 - val_accuracy: 0.8093\n",
      "Epoch 116/500\n",
      "2817/2828 [============================>.] - ETA: 0s - loss: 0.4004 - accuracy: 0.8159\n",
      "Epoch 116: val_loss did not improve from 0.41200\n",
      "2828/2828 [==============================] - 11s 4ms/step - loss: 0.4004 - accuracy: 0.8159 - val_loss: 0.4283 - val_accuracy: 0.8096\n",
      "Epoch 117/500\n",
      "2816/2828 [============================>.] - ETA: 0s - loss: 0.3998 - accuracy: 0.8152\n",
      "Epoch 117: val_loss did not improve from 0.41200\n",
      "2828/2828 [==============================] - 11s 4ms/step - loss: 0.3999 - accuracy: 0.8152 - val_loss: 0.4175 - val_accuracy: 0.8097\n",
      "Epoch 118/500\n",
      "2823/2828 [============================>.] - ETA: 0s - loss: 0.4003 - accuracy: 0.8156\n",
      "Epoch 118: val_loss did not improve from 0.41200\n",
      "2828/2828 [==============================] - 11s 4ms/step - loss: 0.4003 - accuracy: 0.8156 - val_loss: 0.4194 - val_accuracy: 0.8116\n",
      "Epoch 119/500\n",
      "2821/2828 [============================>.] - ETA: 0s - loss: 0.4004 - accuracy: 0.8157\n",
      "Epoch 119: val_loss did not improve from 0.41200\n",
      "2828/2828 [==============================] - 11s 4ms/step - loss: 0.4005 - accuracy: 0.8156 - val_loss: 0.4232 - val_accuracy: 0.8050\n",
      "Epoch 120/500\n",
      "2815/2828 [============================>.] - ETA: 0s - loss: 0.4011 - accuracy: 0.8163Restoring model weights from the end of the best epoch: 100.\n",
      "\n",
      "Epoch 120: val_loss did not improve from 0.41200\n",
      "2828/2828 [==============================] - 11s 4ms/step - loss: 0.4012 - accuracy: 0.8163 - val_loss: 0.4147 - val_accuracy: 0.8126\n",
      "Epoch 120: early stopping\n"
     ]
    }
   ],
   "source": [
    "tf.random.set_seed(42)\n",
    "\n",
    "model = Sequential(layers = [\n",
    "    Dense(units = 128 , activation=\"relu\"),\n",
    "    Dropout(rate = 0.2 , seed = 42),\n",
    "    Dense(units = 128 , activation=\"relu\"),\n",
    "    Dropout(rate = 0.2 , seed = 42),\n",
    "    Dense(units = 256 , activation=\"relu\"),\n",
    "    Dropout(rate = 0.2 , seed = 42),\n",
    "    Dense(units = 256 , activation=\"relu\"),\n",
    "    Dropout(rate = 0.2 , seed = 42),\n",
    "    Dense(units = 256 , activation=\"relu\"),\n",
    "    Dropout(rate = 0.2 , seed = 42),\n",
    "    Dense(units=1 , activation=\"sigmoid\")\n",
    "] , name = \"Neural_Network\")\n",
    "\n",
    "model.compile(optimizer=Adam() , loss=BinaryCrossentropy() , metrics=[\"accuracy\"])\n",
    "\n",
    "model_traning = model.fit(train_set , validation_data = test_set , epochs = 500 , callbacks = callbacks_function(model_path=f\"{model.name}.h5\" , verbosity=1) , verbose = 1)"
   ]
  },
  {
   "cell_type": "markdown",
   "id": "bac4d220-fda4-4ade-b0ed-eb8b00633b38",
   "metadata": {},
   "source": [
    "# Classification Report"
   ]
  },
  {
   "cell_type": "code",
   "execution_count": 34,
   "id": "b6788d50-2bc3-4086-a88a-40e987da5c07",
   "metadata": {},
   "outputs": [
    {
     "name": "stdout",
     "output_type": "stream",
     "text": [
      "              precision    recall  f1-score   support\n",
      "\n",
      "           0       0.88      0.73      0.80     22684\n",
      "           1       0.77      0.90      0.83     22562\n",
      "\n",
      "    accuracy                           0.81     45246\n",
      "   macro avg       0.82      0.81      0.81     45246\n",
      "weighted avg       0.82      0.81      0.81     45246\n",
      "\n"
     ]
    }
   ],
   "source": [
    "y_pred = tf.math.round(tf.squeeze(model.predict(test_set))).numpy()\n",
    "print(classification_report(y_test , y_pred))"
   ]
  },
  {
   "cell_type": "markdown",
   "id": "662d581c-867f-414c-8168-31ddd3196aca",
   "metadata": {},
   "source": [
    "# The performance of the model for per epoch."
   ]
  },
  {
   "cell_type": "code",
   "execution_count": 35,
   "id": "57ae42c9-3754-4d4b-8c68-85ce4d2ea9e6",
   "metadata": {
    "tags": []
   },
   "outputs": [
    {
     "data": {
      "image/png": "[encoded data removed]",
      "text/plain": [
       "<Figure size 864x576 with 1 Axes>"
      ]
     },
     "metadata": {
      "needs_background": "light"
     },
     "output_type": "display_data"
    },
    {
     "name": "stdout",
     "output_type": "stream",
     "text": [
      "\n"
     ]
    },
    {
     "data": {
      "image/png": "[encoded data removed]",
      "text/plain": [
       "<Figure size 864x576 with 1 Axes>"
      ]
     },
     "metadata": {
      "needs_background": "light"
     },
     "output_type": "display_data"
    }
   ],
   "source": [
    "valid_accuracy = model_traning.history[\"val_accuracy\"]\n",
    "accuracy = model_traning.history[\"accuracy\"]\n",
    "\n",
    "plt.plot(valid_accuracy , label = \"Validation Accuracy\" , c = \"magenta\")\n",
    "plt.plot(accuracy , label = \"Accuracy\" , c = \"red\")\n",
    "plt.title(\"Model Accuracy Curve\" , fontsize = 16)\n",
    "plt.ylabel(\"Accuracy\" , fontsize = 16)\n",
    "plt.xlabel(\"Number of the epochs\" , fontsize = 16)\n",
    "plt.grid()\n",
    "plt.legend(loc = \"best\" , fontsize = 16)\n",
    "plt.show()\n",
    "\n",
    "print()\n",
    "\n",
    "valid_loss = model_traning.history[\"val_loss\"]\n",
    "loss = model_traning.history[\"loss\"]\n",
    "\n",
    "plt.plot(valid_loss , label = \"Validation Loss\" , c = \"green\")\n",
    "plt.plot(loss , label = \"Loss\" , c = \"blue\")\n",
    "plt.title(\"Model Loss Curve\" , fontsize = 16)\n",
    "plt.ylabel(\"Loss\" , fontsize = 16)\n",
    "plt.xlabel(\"Number of the Epochs\" , fontsize = 16)\n",
    "plt.grid()\n",
    "plt.legend(loc = \"best\" , fontsize = 16)\n",
    "plt.show()"
   ]
  },
  {
   "cell_type": "markdown",
   "id": "71ff2c13-e426-475b-8757-3289e231df31",
   "metadata": {},
   "source": [
    "# Metrics"
   ]
  },
  {
   "cell_type": "code",
   "execution_count": 36,
   "id": "1262cdf0-676f-479e-89d3-19148938ba56",
   "metadata": {},
   "outputs": [
    {
     "name": "stdout",
     "output_type": "stream",
     "text": [
      "The train score is 83.48%\n",
      "The test score is 81.24%\n",
      "The precssion score is 76.74%\n",
      "The recall score is 89.52%\n",
      "The roc score is 81.26%\n",
      "The gini score is 62.53%\n",
      "The f1 score is 82.64%\n",
      "The accuracy score is 81.24%\n"
     ]
    }
   ],
   "source": [
    "prediction = tf.math.round(tf.squeeze(model.predict(test_set)).numpy())\n",
    "\n",
    "_ , train_score = model.evaluate(train_set , verbose=0)\n",
    "_ , test_score = model.evaluate(test_set , verbose = 0)\n",
    "\n",
    "precision = precision_score(y_test , prediction)\n",
    "recall = recall_score(y_test , prediction)\n",
    "precision = precision_score(y_test , prediction)\n",
    "recall = recall_score(y_test , prediction)\n",
    "roc = roc_auc_score(y_test , prediction)\n",
    "gini = (2*roc) - 1\n",
    "f1 = f1_score(y_test , prediction)\n",
    "acuracy = accuracy_score(y_test , y_pred)\n",
    "\n",
    "print(\"The train score is {:.2%}\".format(train_score))\n",
    "print(\"The test score is {:.2%}\".format(test_score))\n",
    "print(\"The precssion score is {:.2%}\".format(precision))\n",
    "print(\"The recall score is {:.2%}\".format(recall))\n",
    "print(\"The roc score is {:.2%}\".format(roc))\n",
    "print(\"The gini score is {:.2%}\".format(gini))\n",
    "print(\"The f1 score is {:.2%}\".format(f1))\n",
    "print(\"The accuracy score is {:.2%}\".format(acuracy))"
   ]
  },
  {
   "cell_type": "markdown",
   "id": "752765e5-2c84-4a3e-89ab-47320183dc72",
   "metadata": {},
   "source": [
    "# Confussion Matrix with Ratio "
   ]
  },
  {
   "cell_type": "code",
   "execution_count": 37,
   "id": "5e9378ec-b247-4494-8f92-0e43cc057750",
   "metadata": {},
   "outputs": [
    {
     "data": {
      "image/png": "[encoded data removed]",
      "text/plain": [
       "<Figure size 864x576 with 1 Axes>"
      ]
     },
     "metadata": {},
     "output_type": "display_data"
    }
   ],
   "source": [
    "sns.set(font_scale = 1.5 , palette = \"bright\")\n",
    "y_pred = tf.math.round(tf.squeeze(model.predict(test_set))).numpy()\n",
    "cm = confusion_matrix(y_test , y_pred)\n",
    "upper_row = cm[0]/np.sum(cm , axis = 1)[0]\n",
    "lower_row = cm[1]/np.sum(cm, axis = 1)[1]\n",
    "result = np.vstack([upper_row , lower_row])\n",
    "\n",
    "sns.heatmap(data = result , cmap = plt.cm.Blues , cbar = False , yticklabels=[\"It won't rain tomorrow\" , \"It will rain tomorrow\"], \n",
    "            xticklabels=[\"It won't rain tomorrow\" , \"It will rain tomorrow\"] , annot=True , fmt = \".0%\")\n",
    "plt.title(\"Confussion Matrix with ratio\" , fontsize = 16)\n",
    "plt.ylabel(\"The Ground Truth\" , fontsize = 16)\n",
    "plt.xlabel(\"The Predictions\" , fontsize = 16)\n",
    "plt.show()"
   ]
  },
  {
   "cell_type": "markdown",
   "id": "7a269fdd-3294-4e8c-961f-5d839b6d2905",
   "metadata": {},
   "source": [
    "# Confussion Matrix with numbers"
   ]
  },
  {
   "cell_type": "code",
   "execution_count": 38,
   "id": "0d8282eb-c9cb-47a0-b28f-5ccbe196dea4",
   "metadata": {},
   "outputs": [
    {
     "data": {
      "image/png": "[encoded data removed]",
      "text/plain": [
       "<Figure size 864x576 with 1 Axes>"
      ]
     },
     "metadata": {},
     "output_type": "display_data"
    }
   ],
   "source": [
    "sns.set(font_scale = 1.5 , palette = \"bright\")\n",
    "y_pred = tf.math.round(tf.squeeze(model.predict(test_set))).numpy()\n",
    "\n",
    "sns.heatmap(data = cm , cmap = plt.cm.Blues , cbar = False , yticklabels=[\"It won't rain tomorrow\" , \"It will rain tomorrow\"], \n",
    "            xticklabels=[\"It won't rain tomorrow\" , \"It will rain tomorrow\"] , annot=True , fmt = \".5g\")\n",
    "plt.title(\"Confussion Matrix with numbers\" , fontsize = 16)\n",
    "plt.ylabel(\"The Ground Truth\" , fontsize = 16)\n",
    "plt.xlabel(\"The Predictions\" , fontsize = 16)\n",
    "plt.show()"
   ]
  },
  {
   "cell_type": "markdown",
   "id": "afe3798f-02e4-4bef-9ee2-e68323d3fa95",
   "metadata": {},
   "source": [
    "# Roc Curve"
   ]
  },
  {
   "cell_type": "code",
   "execution_count": 39,
   "id": "2ecd21db-cc47-441a-b8c9-0897d4c7e2f7",
   "metadata": {},
   "outputs": [
    {
     "data": {
      "image/png": "[encoded data removed]",
      "text/plain": [
       "<Figure size 864x576 with 1 Axes>"
      ]
     },
     "metadata": {},
     "output_type": "display_data"
    }
   ],
   "source": [
    "y_pred = tf.squeeze(model.predict(test_set)).numpy()\n",
    "\n",
    "fpr , tpr , _ = roc_curve(y_true = y_test , y_score = y_pred)\n",
    "plt.plot(fpr , tpr , label = \"Our Model\" , c = \"magenta\")\n",
    "plt.plot([0,1] , [0,1] , label = \"Random Model\" , c = \"red\")\n",
    "plt.title(\"Roc Curve for {} model\".format(model.name))\n",
    "plt.ylabel(\"False Positve Rate\" , fontsize = 16)\n",
    "plt.xlabel(\"True Positive Rate\" , fontsize = 16)\n",
    "plt.grid()\n",
    "plt.legend(loc = \"best\" , fontsize = 16)\n",
    "plt.show()"
   ]
  }
 ],
 "metadata": {
  "kernelspec": {
   "display_name": "Python 3 (ipykernel)",
   "language": "python",
   "name": "python3"
  },
  "language_info": {
   "codemirror_mode": {
    "name": "ipython",
    "version": 3
   },
   "file_extension": ".py",
   "mimetype": "text/x-python",
   "name": "python",
   "nbconvert_exporter": "python",
   "pygments_lexer": "ipython3",
   "version": "3.9.7"
  }
 },
 "nbformat": 4,
 "nbformat_minor": 5
}
